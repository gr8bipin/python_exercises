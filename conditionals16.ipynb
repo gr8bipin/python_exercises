{
 "cells": [
  {
   "cell_type": "markdown",
   "id": "005057dc",
   "metadata": {},
   "source": [
    "# 32. Write a program that asks for a person's height and weight and calculates\n",
    "# their body mass index (BMI), displaying the corresponding category\n",
    "# (underweight, normal weight, overweight, obese, severely obese)."
   ]
  },
  {
   "cell_type": "code",
   "execution_count": 26,
   "id": "06897b26",
   "metadata": {},
   "outputs": [],
   "source": [
    "# prompt user for person's height and weight\n",
    "weight = float(input(\"Enter your weight:\"))\n",
    "height = float(input(\"Enter your height: \"))"
   ]
  },
  {
   "cell_type": "code",
   "execution_count": 27,
   "id": "4f72eff2",
   "metadata": {},
   "outputs": [],
   "source": [
    "# calculate body mass index (BMI)\n",
    "BMI = weight / (height ** 2)"
   ]
  },
  {
   "cell_type": "code",
   "execution_count": 28,
   "id": "a219639b",
   "metadata": {},
   "outputs": [],
   "source": [
    "# check the corresponding BMI category\n",
    "if BMI < 18.5:\n",
    "    category = \"Underweight\"\n",
    "elif 18.5 <= BMI <= 24.9:\n",
    "    category = \"healthy weight\"\n",
    "elif 25 <= BMI <= 29.9:\n",
    "    category = \"overweight\"\n",
    "else:\n",
    "    category = \"obese\" "
   ]
  },
  {
   "cell_type": "code",
   "execution_count": 29,
   "id": "7d53ea8a",
   "metadata": {},
   "outputs": [
    {
     "name": "stdout",
     "output_type": "stream",
     "text": [
      "Your BMI is 23.11\n",
      "Your BMI category is healthy weight\n"
     ]
    }
   ],
   "source": [
    "# display the corresponding BMI category\n",
    "print(\"Your BMI is\", round(BMI,2))\n",
    "print(\"Your BMI category is\", category)"
   ]
  }
 ],
 "metadata": {
  "kernelspec": {
   "display_name": "venv",
   "language": "python",
   "name": "python3"
  },
  "language_info": {
   "codemirror_mode": {
    "name": "ipython",
    "version": 3
   },
   "file_extension": ".py",
   "mimetype": "text/x-python",
   "name": "python",
   "nbconvert_exporter": "python",
   "pygments_lexer": "ipython3",
   "version": "3.12.3"
  }
 },
 "nbformat": 4,
 "nbformat_minor": 5
}
