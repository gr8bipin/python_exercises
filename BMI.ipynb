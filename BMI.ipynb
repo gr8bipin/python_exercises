{
 "cells": [
  {
   "cell_type": "markdown",
   "id": "dedcf744",
   "metadata": {},
   "source": [
    "# 5. Write a program that calculates the BMI of an individual,\n",
    "# using the formula BMI = weight / height²."
   ]
  },
  {
   "cell_type": "code",
   "execution_count": 6,
   "id": "59eacfdc",
   "metadata": {},
   "outputs": [],
   "source": [
    "# prompt user for weight and height \n",
    "weight = float(input(\"Enter your weight: \"))\n",
    "height = float(input(\"Enter your height: \"))"
   ]
  },
  {
   "cell_type": "code",
   "execution_count": 7,
   "id": "86324b44",
   "metadata": {},
   "outputs": [],
   "source": [
    "# calculate BMI\n",
    "BMI = (weight/ height ** 2)"
   ]
  },
  {
   "cell_type": "code",
   "execution_count": 8,
   "id": "e585190c",
   "metadata": {},
   "outputs": [
    {
     "name": "stdout",
     "output_type": "stream",
     "text": [
      "The BMI of the individual is 23.1084345786212\n"
     ]
    }
   ],
   "source": [
    "# display BMI \n",
    "print(\"The BMI of the individual is\", BMI)"
   ]
  }
 ],
 "metadata": {
  "kernelspec": {
   "display_name": "venv",
   "language": "python",
   "name": "python3"
  },
  "language_info": {
   "codemirror_mode": {
    "name": "ipython",
    "version": 3
   },
   "file_extension": ".py",
   "mimetype": "text/x-python",
   "name": "python",
   "nbconvert_exporter": "python",
   "pygments_lexer": "ipython3",
   "version": "3.12.3"
  }
 },
 "nbformat": 4,
 "nbformat_minor": 5
}
