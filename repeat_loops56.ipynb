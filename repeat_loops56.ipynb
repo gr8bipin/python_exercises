{
 "cells": [
  {
   "cell_type": "markdown",
   "id": "a5e49781",
   "metadata": {},
   "source": [
    "# 56. Write a program that determines the lowest common\n",
    "# multiple (LCM) between two numbers entered by the user."
   ]
  },
  {
   "cell_type": "markdown",
   "id": "ce0defa4",
   "metadata": {},
   "source": [
    "# Solution 1: finding the LCM using a loop-based approach"
   ]
  },
  {
   "cell_type": "code",
   "execution_count": 17,
   "id": "1eb23fad",
   "metadata": {},
   "outputs": [],
   "source": [
    "# Logic: We start from the maximum of the two numbers and keep checking each number to see if it is divisible by both.\n",
    "# The first such number is the LCM."
   ]
  },
  {
   "cell_type": "markdown",
   "id": "53bfc3ce",
   "metadata": {},
   "source": []
  },
  {
   "cell_type": "code",
   "execution_count": 18,
   "id": "3047fbb9",
   "metadata": {},
   "outputs": [],
   "source": [
    "# loop-based LCM program in Python"
   ]
  },
  {
   "cell_type": "code",
   "execution_count": 19,
   "id": "ff3d635e",
   "metadata": {},
   "outputs": [],
   "source": [
    "# prompt the user to enter two numbers\n",
    "num1 = int(input(\"Enter first number: \"))\n",
    "num2 = int(input(\"Enter second number: \"))"
   ]
  },
  {
   "cell_type": "code",
   "execution_count": 20,
   "id": "7f8cf14b",
   "metadata": {},
   "outputs": [],
   "source": [
    "# ensure searching for the LCM from the larger number\n",
    "# find the maximum of the two numbers\n",
    "maximum = max(num1, num2)"
   ]
  },
  {
   "cell_type": "code",
   "execution_count": 21,
   "id": "0bdce963",
   "metadata": {},
   "outputs": [],
   "source": [
    "# use while loop to find the LCM\n",
    "while True:\n",
    "    if maximum % num1 == 0 and maximum % num2 == 0:\n",
    "        LCM = maximum\n",
    "        break\n",
    "    maximum += 1"
   ]
  },
  {
   "cell_type": "code",
   "execution_count": 22,
   "id": "cd18e741",
   "metadata": {},
   "outputs": [
    {
     "name": "stdout",
     "output_type": "stream",
     "text": [
      "(LCM) of 9 and 12 is: 36\n"
     ]
    }
   ],
   "source": [
    "# Display the LCM\n",
    "print(\"(LCM) of\", num1, \"and\", num2, \"is:\", LCM)"
   ]
  }
 ],
 "metadata": {
  "kernelspec": {
   "display_name": "venv",
   "language": "python",
   "name": "python3"
  },
  "language_info": {
   "codemirror_mode": {
    "name": "ipython",
    "version": 3
   },
   "file_extension": ".py",
   "mimetype": "text/x-python",
   "name": "python",
   "nbconvert_exporter": "python",
   "pygments_lexer": "ipython3",
   "version": "3.12.3"
  }
 },
 "nbformat": 4,
 "nbformat_minor": 5
}
