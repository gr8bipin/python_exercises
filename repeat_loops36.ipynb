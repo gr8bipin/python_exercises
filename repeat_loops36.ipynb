{
 "cells": [
  {
   "cell_type": "markdown",
   "id": "f1b728cb",
   "metadata": {},
   "source": [
    "# 6. Write a program that displays the numbers 1 through 10\n",
    "# using a loop."
   ]
  },
  {
   "cell_type": "code",
   "execution_count": 1,
   "id": "77c15fb6",
   "metadata": {},
   "outputs": [],
   "source": [
    "# Initialize a variable to start at 1\n",
    "num = 1"
   ]
  },
  {
   "cell_type": "code",
   "execution_count": null,
   "id": "11e5647d",
   "metadata": {},
   "outputs": [
    {
     "name": "stdout",
     "output_type": "stream",
     "text": [
      "1\n",
      "2\n",
      "3\n",
      "4\n",
      "5\n",
      "6\n",
      "7\n",
      "8\n",
      "9\n",
      "10\n"
     ]
    }
   ],
   "source": [
    "# Use a while loop to iterate until the number reaches 10\n",
    "while num <= 10:\n",
    "    print(num)\n",
    "    num += 1"
   ]
  }
 ],
 "metadata": {
  "kernelspec": {
   "display_name": "venv",
   "language": "python",
   "name": "python3"
  },
  "language_info": {
   "codemirror_mode": {
    "name": "ipython",
    "version": 3
   },
   "file_extension": ".py",
   "mimetype": "text/x-python",
   "name": "python",
   "nbconvert_exporter": "python",
   "pygments_lexer": "ipython3",
   "version": "3.12.3"
  }
 },
 "nbformat": 4,
 "nbformat_minor": 5
}
