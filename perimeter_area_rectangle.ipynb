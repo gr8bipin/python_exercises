{
 "cells": [
  {
   "cell_type": "markdown",
   "id": "6c3d1370",
   "metadata": {},
   "source": [
    "# 9. Write a program that calculates the perimeter and area of a\n",
    "# rectangle, using the formulas P = 2(w + l) and A = wl, where w\n",
    "# is the width and l is the length"
   ]
  },
  {
   "cell_type": "code",
   "execution_count": 2,
   "id": "81e7750c",
   "metadata": {},
   "outputs": [],
   "source": [
    "# Prompt the user for width, length\n",
    "w = float(input(\"Enter width: \"))\n",
    "l = float(input(\"Enter length: \"))"
   ]
  },
  {
   "cell_type": "code",
   "execution_count": 3,
   "id": "0e6f4436",
   "metadata": {},
   "outputs": [],
   "source": [
    "# calculate perimeter and area of rectangle\n",
    "P = 2 * (w + l)\n",
    "A = w * l"
   ]
  },
  {
   "cell_type": "code",
   "execution_count": 4,
   "id": "d65a9460",
   "metadata": {},
   "outputs": [
    {
     "name": "stdout",
     "output_type": "stream",
     "text": [
      "22.0\n",
      "30.25\n"
     ]
    }
   ],
   "source": [
    "# display perimeter and area\n",
    "print(P)\n",
    "print(A)"
   ]
  }
 ],
 "metadata": {
  "kernelspec": {
   "display_name": "venv",
   "language": "python",
   "name": "python3"
  },
  "language_info": {
   "codemirror_mode": {
    "name": "ipython",
    "version": 3
   },
   "file_extension": ".py",
   "mimetype": "text/x-python",
   "name": "python",
   "nbconvert_exporter": "python",
   "pygments_lexer": "ipython3",
   "version": "3.12.3"
  }
 },
 "nbformat": 4,
 "nbformat_minor": 5
}
