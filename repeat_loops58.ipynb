{
 "cells": [
  {
   "cell_type": "markdown",
   "id": "a2be732d",
   "metadata": {},
   "source": [
    "# 58. Write a program that calculates the series below up to the\n",
    "# tenth element:"
   ]
  },
  {
   "cell_type": "code",
   "execution_count": 1,
   "id": "13c90f54",
   "metadata": {},
   "outputs": [],
   "source": [
    "import math "
   ]
  },
  {
   "cell_type": "markdown",
   "id": "0b8bcc78",
   "metadata": {},
   "source": []
  },
  {
   "cell_type": "code",
   "execution_count": 2,
   "id": "7a113a51",
   "metadata": {},
   "outputs": [],
   "source": [
    "# prompt the user for the value of x\n",
    "x = float(input(\"Enter the value of x: \"))"
   ]
  },
  {
   "cell_type": "code",
   "execution_count": 3,
   "id": "7b3c8c6c",
   "metadata": {},
   "outputs": [],
   "source": [
    "# initialize the sum and the term\n",
    "sum = 1\n",
    "term = 1"
   ]
  },
  {
   "cell_type": "code",
   "execution_count": null,
   "id": "bc9fa37a",
   "metadata": {},
   "outputs": [],
   "source": [
    "# calculate the series up to the tenth element\n",
    "for n in range(1, 11):\n",
    "    term *= x / n # used to update the term variable, which represents each term of the series e^x\n",
    "    sum += term"
   ]
  },
  {
   "cell_type": "code",
   "execution_count": null,
   "id": "14fa1e7e",
   "metadata": {},
   "outputs": [
    {
     "name": "stdout",
     "output_type": "stream",
     "text": [
      "Approximation of e^x: 29864.062288829733\n",
      "Actual value of e^x: 66836.191384222\n"
     ]
    }
   ],
   "source": [
    "# display the result\n",
    "result = math.exp(x) # math.exp function to calculate the actual value of e^x\n",
    "print(\"Approximation of e^x:\", sum) \n",
    "print(\"Actual value of e^x:\", result)"
   ]
  }
 ],
 "metadata": {
  "kernelspec": {
   "display_name": "venv",
   "language": "python",
   "name": "python3"
  },
  "language_info": {
   "codemirror_mode": {
    "name": "ipython",
    "version": 3
   },
   "file_extension": ".py",
   "mimetype": "text/x-python",
   "name": "python",
   "nbconvert_exporter": "python",
   "pygments_lexer": "ipython3",
   "version": "3.12.3"
  }
 },
 "nbformat": 4,
 "nbformat_minor": 5
}
