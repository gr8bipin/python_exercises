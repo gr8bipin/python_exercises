{
 "cells": [
  {
   "cell_type": "markdown",
   "id": "f8a9b800",
   "metadata": {},
   "source": [
    "# 34. Create a program that asks for a person's age and displays whether they\n",
    "# are a child (0-12 years old), teenager (13-17 years old), adult (18-59 years old),\n",
    "# or elderly (60 years old or older)."
   ]
  },
  {
   "cell_type": "code",
   "execution_count": null,
   "id": "13ea1ff7",
   "metadata": {},
   "outputs": [],
   "source": [
    "# prompt user for person's age\n",
    "age = int(input(\"Enter their age: \"))"
   ]
  },
  {
   "cell_type": "markdown",
   "id": "6a864df0",
   "metadata": {},
   "source": []
  },
  {
   "cell_type": "code",
   "execution_count": 3,
   "id": "ab251e85",
   "metadata": {},
   "outputs": [
    {
     "name": "stdout",
     "output_type": "stream",
     "text": [
      "They are adult.\n"
     ]
    }
   ],
   "source": [
    "# display whether they are child, teenager, adult, elderly\n",
    "if 0 <= age <= 12:\n",
    "    print(\"They are child.\")\n",
    "elif 13 <= age <= 17:\n",
    "    print(\"They are teenager.\")\n",
    "elif 18 <= age <= 59:\n",
    "    print(\"They are adult.\")\n",
    "else:\n",
    "    print(\"They are elderly.\")"
   ]
  }
 ],
 "metadata": {
  "kernelspec": {
   "display_name": "venv",
   "language": "python",
   "name": "python3"
  },
  "language_info": {
   "codemirror_mode": {
    "name": "ipython",
    "version": 3
   },
   "file_extension": ".py",
   "mimetype": "text/x-python",
   "name": "python",
   "nbconvert_exporter": "python",
   "pygments_lexer": "ipython3",
   "version": "3.12.3"
  }
 },
 "nbformat": 4,
 "nbformat_minor": 5
}
