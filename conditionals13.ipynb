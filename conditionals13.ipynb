{
 "cells": [
  {
   "cell_type": "markdown",
   "id": "9abdb999",
   "metadata": {},
   "source": [
    "# 29. Make a program that reads a person's age and informs if he is not able to\n",
    "# vote (age less than 16 years old), if he is able to vote but is not obligated (16,\n",
    "# 17 years old, or age equal to or greater than 70 years), or if it is obligatory (18\n",
    "# to 69 years old)."
   ]
  },
  {
   "cell_type": "code",
   "execution_count": 1,
   "id": "0921932c",
   "metadata": {},
   "outputs": [],
   "source": [
    "# prompt the user to enter their age\n",
    "age = int(input(\"Enter your age: \"))"
   ]
  },
  {
   "cell_type": "code",
   "execution_count": 2,
   "id": "b1ec4bb5",
   "metadata": {},
   "outputs": [
    {
     "name": "stdout",
     "output_type": "stream",
     "text": [
      "Voting is obligatory for you.\n"
     ]
    }
   ],
   "source": [
    "# check the age range and inform the voting eligibility\n",
    "if age < 16:\n",
    "    print(\"You are not able to vote.\")\n",
    "elif age >= 18 and age <= 69:\n",
    "    print(\"Voting is obligatory for you.\")\n",
    "else:\n",
    "    print(\"You are able to vote, but it is not obligatory.\")\n"
   ]
  }
 ],
 "metadata": {
  "kernelspec": {
   "display_name": "venv",
   "language": "python",
   "name": "python3"
  },
  "language_info": {
   "codemirror_mode": {
    "name": "ipython",
    "version": 3
   },
   "file_extension": ".py",
   "mimetype": "text/x-python",
   "name": "python",
   "nbconvert_exporter": "python",
   "pygments_lexer": "ipython3",
   "version": "3.12.3"
  }
 },
 "nbformat": 4,
 "nbformat_minor": 5
}
