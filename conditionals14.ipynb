{
 "cells": [
  {
   "cell_type": "markdown",
   "id": "c8d9cafd",
   "metadata": {},
   "source": [
    "# 30. Make a program that reads three grades from a student and reports\n",
    "# whether he passed (final grade greater than or equal to 7), failed (final grade\n",
    "# less than 4) or was in recovery (final grade between 4 and 7)."
   ]
  },
  {
   "cell_type": "code",
   "execution_count": 21,
   "id": "4ffc3924",
   "metadata": {},
   "outputs": [],
   "source": [
    "# prompt student for three grades\n",
    "grade1 = int(input(\"Enter grade1: \"))\n",
    "grade2 = int(input(\"Enter grade2: \"))\n",
    "grade3 = int(input(\"Enter grade3: \"))"
   ]
  },
  {
   "cell_type": "code",
   "execution_count": 22,
   "id": "61ff0456",
   "metadata": {},
   "outputs": [],
   "source": [
    "# calculate the average grade\n",
    "average_grade = (grade1 + grade2 + grade3) / 3"
   ]
  },
  {
   "cell_type": "code",
   "execution_count": 23,
   "id": "f9444a59",
   "metadata": {},
   "outputs": [],
   "source": [
    "# report whether he passed, failed or was in recovery\n",
    "if average_grade >= 7:\n",
    "    result = \"Pass\"\n",
    "elif 4 < average_grade < 7:\n",
    "    result = \"Recovery\"\n",
    "else:\n",
    "    result = \"Fail\""
   ]
  },
  {
   "cell_type": "code",
   "execution_count": 24,
   "id": "1090b21d",
   "metadata": {},
   "outputs": [
    {
     "name": "stdout",
     "output_type": "stream",
     "text": [
      "Pass\n"
     ]
    }
   ],
   "source": [
    "# display the result\n",
    "print(result)"
   ]
  }
 ],
 "metadata": {
  "kernelspec": {
   "display_name": "venv",
   "language": "python",
   "name": "python3"
  },
  "language_info": {
   "codemirror_mode": {
    "name": "ipython",
    "version": 3
   },
   "file_extension": ".py",
   "mimetype": "text/x-python",
   "name": "python",
   "nbconvert_exporter": "python",
   "pygments_lexer": "ipython3",
   "version": "3.12.3"
  }
 },
 "nbformat": 4,
 "nbformat_minor": 5
}
