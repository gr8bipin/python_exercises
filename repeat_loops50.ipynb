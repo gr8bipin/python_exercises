{
 "cells": [
  {
   "cell_type": "markdown",
   "id": "f4008d2a",
   "metadata": {},
   "source": [
    "# 50. ​Write a program that reads numbers from the user until a\n",
    "# negative number is entered, and prints the sum of the positive\n",
    "# numbers."
   ]
  },
  {
   "cell_type": "code",
   "execution_count": 7,
   "id": "29f52f04",
   "metadata": {},
   "outputs": [],
   "source": [
    "# initialize variables\n",
    "sum_positive = 0"
   ]
  },
  {
   "cell_type": "code",
   "execution_count": 8,
   "id": "fd30c2e0",
   "metadata": {},
   "outputs": [],
   "source": [
    "# read numbers from the user\n",
    "while True:\n",
    "    number = int(input(\"Enter a number (negative number to exit): \"))\n",
    "\n",
    "    # check if the number is positive\n",
    "    if number >= 0:\n",
    "        sum_positive += number\n",
    "    else:\n",
    "        break"
   ]
  },
  {
   "cell_type": "code",
   "execution_count": 9,
   "id": "9669fe25",
   "metadata": {},
   "outputs": [
    {
     "name": "stdout",
     "output_type": "stream",
     "text": [
      "Sum of positive numbers: 3\n"
     ]
    }
   ],
   "source": [
    "# print the sum of positive numbers\n",
    "print(\"Sum of positive numbers:\", sum_positive)"
   ]
  },
  {
   "cell_type": "code",
   "execution_count": 10,
   "id": "9e3b62cf",
   "metadata": {},
   "outputs": [],
   "source": [
    "# Solution 2: Without using break statement"
   ]
  },
  {
   "cell_type": "code",
   "execution_count": 11,
   "id": "6bb76402",
   "metadata": {},
   "outputs": [],
   "source": [
    "# initialize variables\n",
    "sum_positive = 0\n",
    "number = 0"
   ]
  },
  {
   "cell_type": "code",
   "execution_count": 12,
   "id": "71ea166f",
   "metadata": {},
   "outputs": [],
   "source": [
    "# Read numbers from the user a negative number is entered\n",
    "while number >= 0:\n",
    "    number = int(input(\"Enter a number (negative number to exit): \"))\n",
    "\n",
    "    # check if the number is positive\n",
    "    if number >= 0:\n",
    "        sum_positive += number"
   ]
  },
  {
   "cell_type": "code",
   "execution_count": 13,
   "id": "39ff596d",
   "metadata": {},
   "outputs": [
    {
     "name": "stdout",
     "output_type": "stream",
     "text": [
      "Sum of positive numbers:  9\n"
     ]
    }
   ],
   "source": [
    "# print the sum of positive numbers\n",
    "print(\"Sum of positive numbers: \", sum_positive)"
   ]
  }
 ],
 "metadata": {
  "kernelspec": {
   "display_name": "venv",
   "language": "python",
   "name": "python3"
  },
  "language_info": {
   "codemirror_mode": {
    "name": "ipython",
    "version": 3
   },
   "file_extension": ".py",
   "mimetype": "text/x-python",
   "name": "python",
   "nbconvert_exporter": "python",
   "pygments_lexer": "ipython3",
   "version": "3.12.3"
  }
 },
 "nbformat": 4,
 "nbformat_minor": 5
}
