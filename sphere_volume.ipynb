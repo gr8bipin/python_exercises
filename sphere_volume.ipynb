{
 "cells": [
  {
   "cell_type": "markdown",
   "id": "b0201963",
   "metadata": {},
   "source": [
    "# 15. Create a program that prompts the user for the radius of a\n",
    "# sphere and calculates and displays its volume."
   ]
  },
  {
   "cell_type": "code",
   "execution_count": 2,
   "id": "e59ee0bf",
   "metadata": {},
   "outputs": [],
   "source": [
    "import math"
   ]
  },
  {
   "cell_type": "markdown",
   "id": "ff577585",
   "metadata": {},
   "source": []
  },
  {
   "cell_type": "code",
   "execution_count": 3,
   "id": "b9b68dbd",
   "metadata": {},
   "outputs": [],
   "source": [
    "# prompt the user for the radius of the sphere\n",
    "radius = float(input(\"Enter the radius of the sphere: \"))"
   ]
  },
  {
   "cell_type": "code",
   "execution_count": 4,
   "id": "51465180",
   "metadata": {},
   "outputs": [],
   "source": [
    "# calculate the volume of the sphere\n",
    "volume = (4/3) * math.pi * radius ** 3"
   ]
  },
  {
   "cell_type": "code",
   "execution_count": 5,
   "id": "2e569179",
   "metadata": {},
   "outputs": [
    {
     "name": "stdout",
     "output_type": "stream",
     "text": [
      "The volume of the sphere is:  523.5987755982989\n"
     ]
    }
   ],
   "source": [
    "# display the result to the user\n",
    "print(\"The volume of the sphere is: \", volume)"
   ]
  }
 ],
 "metadata": {
  "kernelspec": {
   "display_name": "venv",
   "language": "python",
   "name": "python3"
  },
  "language_info": {
   "codemirror_mode": {
    "name": "ipython",
    "version": 3
   },
   "file_extension": ".py",
   "mimetype": "text/x-python",
   "name": "python",
   "nbconvert_exporter": "python",
   "pygments_lexer": "ipython3",
   "version": "3.12.3"
  }
 },
 "nbformat": 4,
 "nbformat_minor": 5
}
