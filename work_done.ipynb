{
 "cells": [
  {
   "cell_type": "markdown",
   "id": "e0dd8dc7",
   "metadata": {},
   "source": [
    "# 13. Write a program that calculates the work done by a force\n",
    "# acting on an object, using the formula T = F * d, where T is the\n",
    "# work, F is the applied force, and d is the distance traveled by\n",
    "# the object."
   ]
  },
  {
   "cell_type": "code",
   "execution_count": 2,
   "id": "62eff386",
   "metadata": {},
   "outputs": [],
   "source": [
    "# prompt user for work, applied force, distance\n",
    "applied_force = float(input(\"Enter the applied force: \"))\n",
    "distance = float(input(\"Enter the distance: \"))"
   ]
  },
  {
   "cell_type": "code",
   "execution_count": 3,
   "id": "82df61d8",
   "metadata": {},
   "outputs": [],
   "source": [
    "# calculate the work done\n",
    "work_done = applied_force * distance"
   ]
  },
  {
   "cell_type": "code",
   "execution_count": 4,
   "id": "dfdbbc83",
   "metadata": {},
   "outputs": [
    {
     "name": "stdout",
     "output_type": "stream",
     "text": [
      "The work done by the force is:  512.5\n"
     ]
    }
   ],
   "source": [
    "# display the result\n",
    "print(\"The work done by the force is: \", work_done)"
   ]
  }
 ],
 "metadata": {
  "kernelspec": {
   "display_name": "venv",
   "language": "python",
   "name": "python3"
  },
  "language_info": {
   "codemirror_mode": {
    "name": "ipython",
    "version": 3
   },
   "file_extension": ".py",
   "mimetype": "text/x-python",
   "name": "python",
   "nbconvert_exporter": "python",
   "pygments_lexer": "ipython3",
   "version": "3.12.3"
  }
 },
 "nbformat": 4,
 "nbformat_minor": 5
}
