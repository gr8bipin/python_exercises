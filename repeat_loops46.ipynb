{
 "cells": [
  {
   "cell_type": "markdown",
   "id": "03f3b63e",
   "metadata": {},
   "source": [
    "# 46. Write a program that prompts the user for a number N and\n",
    "# displays all prime numbers less than N."
   ]
  },
  {
   "cell_type": "code",
   "execution_count": 1,
   "id": "3b979308",
   "metadata": {},
   "outputs": [],
   "source": [
    "# prompt user for a number N\n",
    "N = int(input(\"Enter a number: \"))"
   ]
  },
  {
   "cell_type": "code",
   "execution_count": 7,
   "id": "6f4bb357",
   "metadata": {},
   "outputs": [
    {
     "name": "stdout",
     "output_type": "stream",
     "text": [
      "2 3 4 5 6 7 8 9 10 11 12 13 14 15 16 17 18 \n"
     ]
    }
   ],
   "source": [
    "# iterate through numbers from 2 to N\n",
    "for num in range(2, N):\n",
    "    is_prime = True\n",
    "\n",
    "    # check if the current number is divisible by any integer from 2\n",
    "    # to the square root of the number\n",
    "    for i in range(2, int(num ** 0.5) + 1):\n",
    "        if N % i == 0:\n",
    "            is_prime = False\n",
    "            break\n",
    "    \n",
    "    # display the prime number\n",
    "    if is_prime:\n",
    "        print(num, end=\" \")\n",
    "\n",
    "# Add a new line for better output formatting\n",
    "print()"
   ]
  },
  {
   "cell_type": "markdown",
   "id": "c5dce928",
   "metadata": {},
   "source": []
  }
 ],
 "metadata": {
  "kernelspec": {
   "display_name": "venv",
   "language": "python",
   "name": "python3"
  },
  "language_info": {
   "codemirror_mode": {
    "name": "ipython",
    "version": 3
   },
   "file_extension": ".py",
   "mimetype": "text/x-python",
   "name": "python",
   "nbconvert_exporter": "python",
   "pygments_lexer": "ipython3",
   "version": "3.12.3"
  }
 },
 "nbformat": 4,
 "nbformat_minor": 5
}
