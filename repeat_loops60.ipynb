{
 "cells": [
  {
   "cell_type": "markdown",
   "id": "0e8d8891",
   "metadata": {},
   "source": [
    "# 60. Make a program that calculates the value of sine using the\n",
    "# Taylor series according to the equation below until the\n",
    "# difference between the terms is less than 0.0001."
   ]
  },
  {
   "cell_type": "code",
   "execution_count": 1,
   "id": "50ee946d",
   "metadata": {},
   "outputs": [],
   "source": [
    "# Solution 1"
   ]
  },
  {
   "cell_type": "code",
   "execution_count": 2,
   "id": "153e4d2d",
   "metadata": {},
   "outputs": [],
   "source": [
    "import math"
   ]
  },
  {
   "cell_type": "code",
   "execution_count": 3,
   "id": "acf26dd2",
   "metadata": {},
   "outputs": [],
   "source": [
    "# prompt the user for the angle in radians\n",
    "angle = float(input(\"Enter the angle in radians: \"))\n",
    "\n",
    "term = angle\n",
    "sum = angle\n",
    "n = 3\n",
    "\n",
    "while abs(term) >= 0.0001:\n",
    "    term *= - (angle ** 2) / ((n - 1) * n)\n",
    "    sum += term\n",
    "    n += 2"
   ]
  },
  {
   "cell_type": "code",
   "execution_count": null,
   "id": "2cd6c42d",
   "metadata": {},
   "outputs": [],
   "source": [
    "# calculate the sine using the math library's sine function\n",
    "math_result = math.sin(angle)"
   ]
  },
  {
   "cell_type": "code",
   "execution_count": 5,
   "id": "fc6ccdfe",
   "metadata": {},
   "outputs": [
    {
     "name": "stdout",
     "output_type": "stream",
     "text": [
      "Result (Custom Calculation): 111.5767631398894\n",
      "Result (math.sin): 0.8509035245341184\n"
     ]
    }
   ],
   "source": [
    "# Display the calculated result and the math library's result\n",
    "print(\"Result (Custom Calculation):\", sum)\n",
    "print(\"Result (math.sin):\", math_result)"
   ]
  }
 ],
 "metadata": {
  "kernelspec": {
   "display_name": "venv",
   "language": "python",
   "name": "python3"
  },
  "language_info": {
   "codemirror_mode": {
    "name": "ipython",
    "version": 3
   },
   "file_extension": ".py",
   "mimetype": "text/x-python",
   "name": "python",
   "nbconvert_exporter": "python",
   "pygments_lexer": "ipython3",
   "version": "3.12.3"
  }
 },
 "nbformat": 4,
 "nbformat_minor": 5
}
