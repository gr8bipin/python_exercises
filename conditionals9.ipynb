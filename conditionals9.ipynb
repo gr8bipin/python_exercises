{
 "cells": [
  {
   "cell_type": "markdown",
   "id": "db2e9c08",
   "metadata": {},
   "source": [
    "# 25. Make a program that reads three numbers, and displays them on the\n",
    "# screen in ascending order."
   ]
  },
  {
   "cell_type": "code",
   "execution_count": 1,
   "id": "5d86db2e",
   "metadata": {},
   "outputs": [],
   "source": [
    "# prompt user for three numbers\n",
    "num1 = int(input(\"Enter first number: \"))\n",
    "num2 = int(input(\"Enter second number: \"))\n",
    "num3 = int(input(\"Enter third number: \"))"
   ]
  },
  {
   "cell_type": "code",
   "execution_count": 2,
   "id": "97a698d4",
   "metadata": {},
   "outputs": [
    {
     "name": "stdout",
     "output_type": "stream",
     "text": [
      "The numbers in ascending order are:  10 20 30\n"
     ]
    }
   ],
   "source": [
    "# display them in ascending order\n",
    "if num1 <= num2 and num1 <= num3:\n",
    "    if num2 <= num3:\n",
    "        print(\"The numbers in ascending order are: \", num1, num2, num3)\n",
    "    else:\n",
    "        print(\"The numbers in ascending order are: \", num1, num3, num2)\n",
    "elif num2 <= num1 and num2 <= num3:\n",
    "    if num1 <= num3:\n",
    "        print(\"The numbers in ascending order: \", num2, num1, num3)\n",
    "    else:\n",
    "        print(\"The numbers in ascending order: \", num2, num3, num1)\n",
    "else:\n",
    "    if num1 <= num2:\n",
    "        print(\"The numbers in ascending order: \", num3, num1, num2)\n",
    "    else:\n",
    "        print(\"The numbers in ascending order are: \", num3, num1, num2)"
   ]
  }
 ],
 "metadata": {
  "kernelspec": {
   "display_name": "venv",
   "language": "python",
   "name": "python3"
  },
  "language_info": {
   "codemirror_mode": {
    "name": "ipython",
    "version": 3
   },
   "file_extension": ".py",
   "mimetype": "text/x-python",
   "name": "python",
   "nbconvert_exporter": "python",
   "pygments_lexer": "ipython3",
   "version": "3.12.3"
  }
 },
 "nbformat": 4,
 "nbformat_minor": 5
}
