{
 "cells": [
  {
   "cell_type": "markdown",
   "id": "c8bb7e00",
   "metadata": {},
   "source": [
    "# 62. Write a program that reads an array of integers and\n",
    "# displays the largest element in the array."
   ]
  },
  {
   "cell_type": "code",
   "execution_count": 1,
   "id": "7ce743be",
   "metadata": {},
   "outputs": [],
   "source": [
    "# prompt the user for the number of elements in the array\n",
    "n = int(input(\"Enter the number of elements: \"))"
   ]
  },
  {
   "cell_type": "code",
   "execution_count": 2,
   "id": "ebb18e34",
   "metadata": {},
   "outputs": [],
   "source": [
    "# initialize an empty list to store the elements \n",
    "array = []"
   ]
  },
  {
   "cell_type": "code",
   "execution_count": 3,
   "id": "8722f71f",
   "metadata": {},
   "outputs": [],
   "source": [
    "# read the elements from the user\n",
    "for i in range(n):\n",
    "    element = int(input(\"Enter element {}: \".format(i + 1)))\n",
    "    array.append(element)"
   ]
  },
  {
   "cell_type": "code",
   "execution_count": 4,
   "id": "8e038159",
   "metadata": {},
   "outputs": [],
   "source": [
    "# initialize a variable to store the largest element\n",
    "largest = array[0]"
   ]
  },
  {
   "cell_type": "code",
   "execution_count": 5,
   "id": "e9365913",
   "metadata": {},
   "outputs": [],
   "source": [
    "# iterate over the elements in the array\n",
    "for i in range(1, n):\n",
    "    if array[i] > largest:\n",
    "        largest = array[i]"
   ]
  },
  {
   "cell_type": "code",
   "execution_count": 6,
   "id": "85820cbb",
   "metadata": {},
   "outputs": [
    {
     "name": "stdout",
     "output_type": "stream",
     "text": [
      "Largest element: 5\n"
     ]
    }
   ],
   "source": [
    "# display the largest element\n",
    "print(\"Largest element:\", largest)"
   ]
  }
 ],
 "metadata": {
  "kernelspec": {
   "display_name": "venv",
   "language": "python",
   "name": "python3"
  },
  "language_info": {
   "codemirror_mode": {
    "name": "ipython",
    "version": 3
   },
   "file_extension": ".py",
   "mimetype": "text/x-python",
   "name": "python",
   "nbconvert_exporter": "python",
   "pygments_lexer": "ipython3",
   "version": "3.12.3"
  }
 },
 "nbformat": 4,
 "nbformat_minor": 5
}
