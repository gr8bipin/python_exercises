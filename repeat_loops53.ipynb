{
 "cells": [
  {
   "cell_type": "markdown",
   "id": "b67814f2",
   "metadata": {},
   "source": [
    "# 53. Write a program that prompts the user for a list of\n",
    "# numbers, until the user types the number zero, and displays the\n",
    "# largest and smallest numbers in the list."
   ]
  },
  {
   "cell_type": "code",
   "execution_count": null,
   "id": "1db788df",
   "metadata": {},
   "outputs": [],
   "source": [
    "# initialize variables     # to keep track of the largest and smallest numbers entered\n",
    "\n",
    "largest = float('-inf') # initialize largest to negativity infinity\n",
    "smallest = float('inf') # initialize smallest to positive infinity\n",
    "\n",
    "# to ensure that any number entered by the user will be larger than the initial largest value and smaller than the initial smallest value"
   ]
  },
  {
   "cell_type": "code",
   "execution_count": null,
   "id": "47b84d4b",
   "metadata": {},
   "outputs": [
    {
     "name": "stdout",
     "output_type": "stream",
     "text": [
      "Largest number: 50.0\n",
      "Smallest number: 10.0\n"
     ]
    }
   ],
   "source": [
    "# read numbers from the user until zero is entered\n",
    "\n",
    "while True: # which means the loop will continue indefinitely until a break statement is encountered\n",
    "    \n",
    "    number = float(input(\"Enter a number (enter 0 to stop): \"))\n",
    "\n",
    "    # check if the number is zero\n",
    "    if number == 0:\n",
    "        break\n",
    "\n",
    "    # update largest and smallest numbers \n",
    "    if number > largest:\n",
    "        largest = number\n",
    "    if number < smallest:\n",
    "        smallest = number\n",
    "\n",
    "# Display the largest and smallest numbers\n",
    "if largest != float('-inf') and smallest != float('inf'):\n",
    "    print(\"Largest number:\", largest)\n",
    "    print(\"Smallest number:\", smallest)\n",
    "else:\n",
    "    print(\"No numbers were entered.\")"
   ]
  }
 ],
 "metadata": {
  "kernelspec": {
   "display_name": "venv",
   "language": "python",
   "name": "python3"
  },
  "language_info": {
   "codemirror_mode": {
    "name": "ipython",
    "version": 3
   },
   "file_extension": ".py",
   "mimetype": "text/x-python",
   "name": "python",
   "nbconvert_exporter": "python",
   "pygments_lexer": "ipython3",
   "version": "3.12.3"
  }
 },
 "nbformat": 4,
 "nbformat_minor": 5
}
