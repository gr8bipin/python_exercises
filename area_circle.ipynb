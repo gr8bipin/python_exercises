{
 "cells": [
  {
   "cell_type": "markdown",
   "id": "9deab945",
   "metadata": {},
   "source": [
    "# 7. Write a program that calculates the area of a circle from the\n",
    "# radius, using the formula A = πr²"
   ]
  },
  {
   "cell_type": "code",
   "execution_count": 3,
   "id": "618bfed4",
   "metadata": {},
   "outputs": [],
   "source": [
    "import math"
   ]
  },
  {
   "cell_type": "code",
   "execution_count": 4,
   "id": "46b7e2a4",
   "metadata": {},
   "outputs": [],
   "source": [
    "# prompt user for radius \n",
    "radius = float(input(\"Enter the radius of the circle: \"))\n"
   ]
  },
  {
   "cell_type": "code",
   "execution_count": 5,
   "id": "d30d2002",
   "metadata": {},
   "outputs": [],
   "source": [
    "# calculate the area of circle\n",
    "A = math.pi * radius ** 2"
   ]
  },
  {
   "cell_type": "code",
   "execution_count": 6,
   "id": "23eed5fd",
   "metadata": {},
   "outputs": [
    {
     "name": "stdout",
     "output_type": "stream",
     "text": [
      "95.03317777109125\n"
     ]
    }
   ],
   "source": [
    "# display the area\n",
    "print(A)"
   ]
  }
 ],
 "metadata": {
  "kernelspec": {
   "display_name": "venv",
   "language": "python",
   "name": "python3"
  },
  "language_info": {
   "codemirror_mode": {
    "name": "ipython",
    "version": 3
   },
   "file_extension": ".py",
   "mimetype": "text/x-python",
   "name": "python",
   "nbconvert_exporter": "python",
   "pygments_lexer": "ipython3",
   "version": "3.12.3"
  }
 },
 "nbformat": 4,
 "nbformat_minor": 5
}
