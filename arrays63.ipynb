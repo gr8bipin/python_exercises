{
 "cells": [
  {
   "cell_type": "markdown",
   "id": "eeb6f0b5",
   "metadata": {},
   "source": [
    "# 63. Write a program that reads an array of integers and\n",
    "# displays the average of the elements."
   ]
  },
  {
   "cell_type": "code",
   "execution_count": 12,
   "id": "a661ac5b",
   "metadata": {},
   "outputs": [],
   "source": [
    "# prompt user to enter the number of elements in the array\n",
    "n = int(input(\"Enter the number of elements in the array: \"))"
   ]
  },
  {
   "cell_type": "code",
   "execution_count": 13,
   "id": "b13807bd",
   "metadata": {},
   "outputs": [],
   "source": [
    "# initialize an array to store the elements\n",
    "array = []"
   ]
  },
  {
   "cell_type": "code",
   "execution_count": 14,
   "id": "046d0cc7",
   "metadata": {},
   "outputs": [],
   "source": [
    "# read each element from the user and append it to the array\n",
    "for element in range(n):\n",
    "    element = int(input(\"Enter each element: \"))\n",
    "    array.append(element)"
   ]
  },
  {
   "cell_type": "code",
   "execution_count": 15,
   "id": "c53d4e84",
   "metadata": {},
   "outputs": [],
   "source": [
    "# initialize a variable sum to store the sum of the elements and set it to 0\n",
    "sum = 0\n",
    "for element in array:\n",
    "    sum += element "
   ]
  },
  {
   "cell_type": "code",
   "execution_count": 16,
   "id": "b7c7ad4d",
   "metadata": {},
   "outputs": [],
   "source": [
    "# calculate average \n",
    "average = sum / n"
   ]
  },
  {
   "cell_type": "code",
   "execution_count": 17,
   "id": "c980ab32",
   "metadata": {},
   "outputs": [
    {
     "name": "stdout",
     "output_type": "stream",
     "text": [
      "The average of the elements: 3.0\n"
     ]
    }
   ],
   "source": [
    "# display the average on the screen\n",
    "print(\"The average of the elements:\", average)"
   ]
  },
  {
   "cell_type": "markdown",
   "id": "080eb163",
   "metadata": {},
   "source": []
  }
 ],
 "metadata": {
  "kernelspec": {
   "display_name": "venv",
   "language": "python",
   "name": "python3"
  },
  "language_info": {
   "codemirror_mode": {
    "name": "ipython",
    "version": 3
   },
   "file_extension": ".py",
   "mimetype": "text/x-python",
   "name": "python",
   "nbconvert_exporter": "python",
   "pygments_lexer": "ipython3",
   "version": "3.12.3"
  }
 },
 "nbformat": 4,
 "nbformat_minor": 5
}
