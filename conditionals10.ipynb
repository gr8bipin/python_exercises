{
 "cells": [
  {
   "cell_type": "markdown",
   "id": "1e42c6b9",
   "metadata": {},
   "source": [
    "# 26. Make a program that reads the age of three people and how many of them\n",
    "# are of legal age (age 18 or older)."
   ]
  },
  {
   "cell_type": "code",
   "execution_count": 7,
   "id": "10a21529",
   "metadata": {},
   "outputs": [],
   "source": [
    "# prompt user for age of three people\n",
    "age1 = int(input(\"Enter age of the first person: \"))\n",
    "age2 = int(input(\"Enter age of the second person: \"))\n",
    "age3 = int(input(\"Enter age of the third person: \"))"
   ]
  },
  {
   "cell_type": "code",
   "execution_count": 8,
   "id": "74d965a5",
   "metadata": {},
   "outputs": [],
   "source": [
    "# find how many of them are of legal age\n",
    "# initialize a variable to keep track of the count of legal age individuals\n",
    "legal_age_count = 0\n"
   ]
  },
  {
   "cell_type": "code",
   "execution_count": 9,
   "id": "c39eeb30",
   "metadata": {},
   "outputs": [],
   "source": [
    "# check if each person is of legal age\n",
    "if age1 >= 18:\n",
    "    legal_age_count += 1\n",
    "if age2 >= 18:\n",
    "    legal_age_count += 1\n",
    "if age3 >= 18:\n",
    "    legal_age_count += 1"
   ]
  },
  {
   "cell_type": "code",
   "execution_count": 10,
   "id": "63b9d795",
   "metadata": {},
   "outputs": [
    {
     "name": "stdout",
     "output_type": "stream",
     "text": [
      "Out of the three people, 2 person(s) is/are of legal age.\n"
     ]
    }
   ],
   "source": [
    "# display the count of legal age individuals\n",
    "print(\"Out of the three people,\", legal_age_count, \"person(s) is/are of legal age.\")"
   ]
  }
 ],
 "metadata": {
  "kernelspec": {
   "display_name": "venv",
   "language": "python",
   "name": "python3"
  },
  "language_info": {
   "codemirror_mode": {
    "name": "ipython",
    "version": 3
   },
   "file_extension": ".py",
   "mimetype": "text/x-python",
   "name": "python",
   "nbconvert_exporter": "python",
   "pygments_lexer": "ipython3",
   "version": "3.12.3"
  }
 },
 "nbformat": 4,
 "nbformat_minor": 5
}
