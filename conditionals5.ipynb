{
 "cells": [
  {
   "cell_type": "markdown",
   "id": "4d7ef1fe",
   "metadata": {},
   "source": [
    "# 20. Write a program that reads a number and reports whether it is positive,\n",
    "# negative or zero."
   ]
  },
  {
   "cell_type": "code",
   "execution_count": 2,
   "id": "c68e82a0",
   "metadata": {},
   "outputs": [],
   "source": [
    "# prompt the user to enter a number\n",
    "number = float(input(\"Enter a number: \"))"
   ]
  },
  {
   "cell_type": "code",
   "execution_count": 3,
   "id": "dac03a02",
   "metadata": {},
   "outputs": [
    {
     "name": "stdout",
     "output_type": "stream",
     "text": [
      "The number is positive.\n"
     ]
    }
   ],
   "source": [
    "# check if the number is positive, negative, or zero \n",
    "if number > 0:\n",
    "    print(\"The number is positive.\")\n",
    "elif number < 0:\n",
    "    print(\"The number is negative.\")\n",
    "else:\n",
    "    print(\"The number is zero.\")"
   ]
  }
 ],
 "metadata": {
  "kernelspec": {
   "display_name": "venv",
   "language": "python",
   "name": "python3"
  },
  "language_info": {
   "codemirror_mode": {
    "name": "ipython",
    "version": 3
   },
   "file_extension": ".py",
   "mimetype": "text/x-python",
   "name": "python",
   "nbconvert_exporter": "python",
   "pygments_lexer": "ipython3",
   "version": "3.12.3"
  }
 },
 "nbformat": 4,
 "nbformat_minor": 5
}
