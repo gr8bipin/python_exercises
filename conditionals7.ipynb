{
 "cells": [
  {
   "cell_type": "markdown",
   "id": "5c80b05b",
   "metadata": {},
   "source": [
    "# 23. Make a program that reads three numbers, and informs if their sum is\n",
    "# divisible by 5 or not."
   ]
  },
  {
   "cell_type": "code",
   "execution_count": 1,
   "id": "da37d881",
   "metadata": {},
   "outputs": [],
   "source": [
    "# prompt user for three numbers\n",
    "num1 = int(input(\"Enter first number: \"))\n",
    "num2 = int(input(\"Enter second number: \"))\n",
    "num3 = int(input(\"Enter third number: \"))"
   ]
  },
  {
   "cell_type": "code",
   "execution_count": 2,
   "id": "c1bc82da",
   "metadata": {},
   "outputs": [],
   "source": [
    "# find their sum\n",
    "sum = num1 + num2 + num3"
   ]
  },
  {
   "cell_type": "code",
   "execution_count": 3,
   "id": "338ca50f",
   "metadata": {},
   "outputs": [
    {
     "name": "stdout",
     "output_type": "stream",
     "text": [
      "Sum is divisible by 5\n"
     ]
    }
   ],
   "source": [
    "# check if sum is divisible by 5 or not\n",
    "if sum % 5 == 0:\n",
    "    print(\"Sum is divisible by 5\")\n",
    "else:\n",
    "    print(\"Sum is not divisible by 5\")"
   ]
  }
 ],
 "metadata": {
  "kernelspec": {
   "display_name": "venv",
   "language": "python",
   "name": "python3"
  },
  "language_info": {
   "codemirror_mode": {
    "name": "ipython",
    "version": 3
   },
   "file_extension": ".py",
   "mimetype": "text/x-python",
   "name": "python",
   "nbconvert_exporter": "python",
   "pygments_lexer": "ipython3",
   "version": "3.12.3"
  }
 },
 "nbformat": 4,
 "nbformat_minor": 5
}
