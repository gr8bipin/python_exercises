{
 "cells": [
  {
   "cell_type": "markdown",
   "id": "cfeabb00",
   "metadata": {},
   "source": [
    "# 42. Write a program that asks the user for a number N and\n",
    "# displays the sum of all numbers from 1 to N."
   ]
  },
  {
   "cell_type": "code",
   "execution_count": 9,
   "id": "10741056",
   "metadata": {},
   "outputs": [],
   "source": [
    "# Solution 1: Using for loop"
   ]
  },
  {
   "cell_type": "code",
   "execution_count": 2,
   "id": "73be032a",
   "metadata": {},
   "outputs": [],
   "source": [
    "# prompt user for a number N\n",
    "N = int(input(\"Enter a number: \"))"
   ]
  },
  {
   "cell_type": "code",
   "execution_count": 3,
   "id": "174206c8",
   "metadata": {},
   "outputs": [],
   "source": [
    "# initialize a variable to hold the sum\n",
    "sum_of_numbers = 0"
   ]
  },
  {
   "cell_type": "code",
   "execution_count": 4,
   "id": "64a81286",
   "metadata": {},
   "outputs": [],
   "source": [
    "# use a for loop to iterate from 1 to N (inclusive)\n",
    "for num in range(1, N + 1):\n",
    "    # Add the current number to the sum\n",
    "    sum_of_numbers += num"
   ]
  },
  {
   "cell_type": "code",
   "execution_count": 6,
   "id": "c80b707a",
   "metadata": {},
   "outputs": [
    {
     "name": "stdout",
     "output_type": "stream",
     "text": [
      "The sum of numbers from 1 to 5 is: 15\n"
     ]
    }
   ],
   "source": [
    "# display the sum of the numbers\n",
    "print(\"The sum of numbers from 1 to\", N, \"is:\", sum_of_numbers)"
   ]
  },
  {
   "cell_type": "code",
   "execution_count": 8,
   "id": "f5b37b79",
   "metadata": {},
   "outputs": [],
   "source": [
    "# Solution 2: Using while loop"
   ]
  },
  {
   "cell_type": "code",
   "execution_count": 10,
   "id": "dabfcecb",
   "metadata": {},
   "outputs": [],
   "source": [
    "# prompt the user for a number\n",
    "N = int(input(\"Enter a number: \"))"
   ]
  },
  {
   "cell_type": "code",
   "execution_count": 11,
   "id": "632af62a",
   "metadata": {},
   "outputs": [],
   "source": [
    "# initialize variables\n",
    "sum_of_numbers = 0\n",
    "num = 1"
   ]
  },
  {
   "cell_type": "code",
   "execution_count": null,
   "id": "ce217b76",
   "metadata": {},
   "outputs": [],
   "source": [
    "# use a while loop to iterate until num reaches N\n",
    "while num <= N:\n",
    "    # Add the current number to the sum\n",
    "    sum_of_numbers += num\n",
    "    \n",
    "    # increment the number\n",
    "    num += 1"
   ]
  },
  {
   "cell_type": "code",
   "execution_count": 13,
   "id": "37d0c36e",
   "metadata": {},
   "outputs": [
    {
     "name": "stdout",
     "output_type": "stream",
     "text": [
      "The sum of numbers from 1 to 5 is: 15\n"
     ]
    }
   ],
   "source": [
    "# display the sum of the numbers\n",
    "print(\"The sum of numbers from 1 to\", N, \"is:\", sum_of_numbers)"
   ]
  }
 ],
 "metadata": {
  "kernelspec": {
   "display_name": "venv",
   "language": "python",
   "name": "python3"
  },
  "language_info": {
   "codemirror_mode": {
    "name": "ipython",
    "version": 3
   },
   "file_extension": ".py",
   "mimetype": "text/x-python",
   "name": "python",
   "nbconvert_exporter": "python",
   "pygments_lexer": "ipython3",
   "version": "3.12.3"
  }
 },
 "nbformat": 4,
 "nbformat_minor": 5
}
