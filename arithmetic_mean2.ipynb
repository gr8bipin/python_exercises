{
 "cells": [
  {
   "cell_type": "code",
   "execution_count": 1,
   "id": "191b5dec",
   "metadata": {},
   "outputs": [],
   "source": [
    "# Write a program to calculate the arithmetic mean of three grades entered by user in two decimal places."
   ]
  },
  {
   "cell_type": "code",
   "execution_count": 2,
   "id": "dfc7d8f9",
   "metadata": {},
   "outputs": [],
   "source": [
    "# Prompt user for three grades\n",
    "grade1 = float(input(\"Enter first number: \"))\n",
    "grade2 = float(input(\"Enter second number: \"))\n",
    "grade3 = float(input(\"Enter third number: \"))"
   ]
  },
  {
   "cell_type": "code",
   "execution_count": 3,
   "id": "02537eb4",
   "metadata": {},
   "outputs": [],
   "source": [
    "# calculate the arithmetic mean of three grades \n",
    "mean = (grade1 + grade2 + grade3) / 3"
   ]
  },
  {
   "cell_type": "code",
   "execution_count": 4,
   "id": "6570e2b2",
   "metadata": {},
   "outputs": [],
   "source": [
    "# Round the mean to two decimal places\n",
    "rounded_mean = round(mean, 2)"
   ]
  },
  {
   "cell_type": "code",
   "execution_count": 5,
   "id": "95f18b69",
   "metadata": {},
   "outputs": [
    {
     "name": "stdout",
     "output_type": "stream",
     "text": [
      "Arithmetic mean:  20.00\n"
     ]
    }
   ],
   "source": [
    "# Display the result with two decimal places\n",
    "print(\"Arithmetic mean: \", \"{:.2f}\".format(rounded_mean))"
   ]
  }
 ],
 "metadata": {
  "kernelspec": {
   "display_name": "venv",
   "language": "python",
   "name": "python3"
  },
  "language_info": {
   "codemirror_mode": {
    "name": "ipython",
    "version": 3
   },
   "file_extension": ".py",
   "mimetype": "text/x-python",
   "name": "python",
   "nbconvert_exporter": "python",
   "pygments_lexer": "ipython3",
   "version": "3.12.3"
  }
 },
 "nbformat": 4,
 "nbformat_minor": 5
}
