{
 "cells": [
  {
   "cell_type": "markdown",
   "id": "9c95dda1",
   "metadata": {},
   "source": [
    "# 51. Write a program that prompts the user for a number and\n",
    "# displays the Fibonacci sequence up to the given number using a\n",
    "# repeating loop."
   ]
  },
  {
   "cell_type": "code",
   "execution_count": 1,
   "id": "72353087",
   "metadata": {},
   "outputs": [],
   "source": [
    "# prompt the user for a number\n",
    "number = int(input(\"Enter a number: \"))"
   ]
  },
  {
   "cell_type": "code",
   "execution_count": 2,
   "id": "dc8e458f",
   "metadata": {},
   "outputs": [],
   "source": [
    "# initialize variables\n",
    "previous_number = 0\n",
    "current_number = 1"
   ]
  },
  {
   "cell_type": "markdown",
   "id": "a4437d21",
   "metadata": {},
   "source": []
  },
  {
   "cell_type": "code",
   "execution_count": 3,
   "id": "bbd49f9f",
   "metadata": {},
   "outputs": [
    {
     "name": "stdout",
     "output_type": "stream",
     "text": [
      "Fibonacci sequence up to 5 :\n",
      "0 1 1 2 3 5 "
     ]
    }
   ],
   "source": [
    "# display the fibonacci sequence up to the given number\n",
    "print(\"Fibonacci sequence up to\", number, \":\")\n",
    "print(previous_number, end=\" \")\n",
    "\n",
    "while current_number <= number:\n",
    "    print(current_number, end=\" \")\n",
    "\n",
    "    # calculate the next fibonacci number\n",
    "    next_number = previous_number + current_number\n",
    "\n",
    "    # update previous_number and current_number\n",
    "    previous_number = current_number\n",
    "    current_number = next_number"
   ]
  }
 ],
 "metadata": {
  "kernelspec": {
   "display_name": "venv",
   "language": "python",
   "name": "python3"
  },
  "language_info": {
   "codemirror_mode": {
    "name": "ipython",
    "version": 3
   },
   "file_extension": ".py",
   "mimetype": "text/x-python",
   "name": "python",
   "nbconvert_exporter": "python",
   "pygments_lexer": "ipython3",
   "version": "3.12.3"
  }
 },
 "nbformat": 4,
 "nbformat_minor": 5
}
