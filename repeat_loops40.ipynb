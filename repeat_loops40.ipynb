{
 "cells": [
  {
   "cell_type": "markdown",
   "id": "039c156e",
   "metadata": {},
   "source": [
    "# 40. Create a program that prompts the user for a number and\n",
    "# displays the table of that number using a loop."
   ]
  },
  {
   "cell_type": "code",
   "execution_count": null,
   "id": "4e550602",
   "metadata": {},
   "outputs": [],
   "source": []
  },
  {
   "cell_type": "markdown",
   "id": "adf75daf",
   "metadata": {},
   "source": [
    "# Solution 1: Using for loop"
   ]
  },
  {
   "cell_type": "code",
   "execution_count": 2,
   "id": "79ae3fc4",
   "metadata": {},
   "outputs": [],
   "source": [
    "# prompt the user for a number\n",
    "number = int(input(\"Enter a number: \"))"
   ]
  },
  {
   "cell_type": "code",
   "execution_count": 3,
   "id": "e2f07a53",
   "metadata": {},
   "outputs": [
    {
     "name": "stdout",
     "output_type": "stream",
     "text": [
      "5 x 1 = 5\n",
      "5 x 2 = 10\n",
      "5 x 3 = 15\n",
      "5 x 4 = 20\n",
      "5 x 5 = 25\n",
      "5 x 6 = 30\n",
      "5 x 7 = 35\n",
      "5 x 8 = 40\n",
      "5 x 9 = 45\n",
      "5 x 10 = 50\n"
     ]
    }
   ],
   "source": [
    "# use a for loop to iterate through the range 1 to 11\n",
    "for i in range(1, 11):\n",
    "    # calculate the product of the number and the current iteration value\n",
    "    product = number * i\n",
    "\n",
    "    # display the multiplication table entry\n",
    "    print(number, \"x\", i, \"=\", product)"
   ]
  },
  {
   "cell_type": "markdown",
   "id": "c3356e22",
   "metadata": {},
   "source": []
  },
  {
   "cell_type": "markdown",
   "id": "3b8fec57",
   "metadata": {},
   "source": [
    "# Solution 2: Using while loop"
   ]
  },
  {
   "cell_type": "markdown",
   "id": "cb38c17f",
   "metadata": {},
   "source": []
  },
  {
   "cell_type": "code",
   "execution_count": null,
   "id": "2504d4f3",
   "metadata": {},
   "outputs": [],
   "source": [
    "# Prompt the user for a number\n",
    "number = int(input(\"Enter a number: \"))"
   ]
  },
  {
   "cell_type": "code",
   "execution_count": 5,
   "id": "f1317af6",
   "metadata": {},
   "outputs": [],
   "source": [
    "# Initialize a counter variable \n",
    "i = 1"
   ]
  },
  {
   "cell_type": "code",
   "execution_count": 6,
   "id": "180c22fd",
   "metadata": {},
   "outputs": [
    {
     "name": "stdout",
     "output_type": "stream",
     "text": [
      "5 x 1 = 5\n",
      "5 x 2 = 10\n",
      "5 x 3 = 15\n",
      "5 x 4 = 20\n",
      "5 x 5 = 25\n",
      "5 x 6 = 30\n",
      "5 x 7 = 35\n",
      "5 x 8 = 40\n",
      "5 x 9 = 45\n",
      "5 x 10 = 50\n"
     ]
    }
   ],
   "source": [
    "# Use a while loop to iterate until the counter reaches 11\n",
    "while i <= 10:\n",
    "    # calculate the product of the number and the current iteration value\n",
    "    product = number * i\n",
    "\n",
    "    # display the multiplication table entry\n",
    "    print(number, \"x\", i, \"=\", product)\n",
    "\n",
    "    # increment the counter by 1\n",
    "    i += 1"
   ]
  }
 ],
 "metadata": {
  "kernelspec": {
   "display_name": "venv",
   "language": "python",
   "name": "python3"
  },
  "language_info": {
   "codemirror_mode": {
    "name": "ipython",
    "version": 3
   },
   "file_extension": ".py",
   "mimetype": "text/x-python",
   "name": "python",
   "nbconvert_exporter": "python",
   "pygments_lexer": "ipython3",
   "version": "3.12.3"
  }
 },
 "nbformat": 4,
 "nbformat_minor": 5
}
