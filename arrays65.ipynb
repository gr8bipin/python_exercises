{
 "cells": [
  {
   "cell_type": "markdown",
   "id": "be9b3854",
   "metadata": {},
   "source": [
    "# 65. Write a program that reads an array of integers and checks\n",
    "# if they are in ascending order."
   ]
  },
  {
   "cell_type": "code",
   "execution_count": 11,
   "id": "989f07a5",
   "metadata": {},
   "outputs": [],
   "source": [
    "# prompt the user to enter the size of the array\n",
    "n = int(input(\"Enter the size of the array: \"))"
   ]
  },
  {
   "cell_type": "code",
   "execution_count": 12,
   "id": "d84ba433",
   "metadata": {},
   "outputs": [],
   "source": [
    "# initialize empty list to store the elements of the array\n",
    "array = [] "
   ]
  },
  {
   "cell_type": "code",
   "execution_count": 13,
   "id": "457d5895",
   "metadata": {},
   "outputs": [],
   "source": [
    "# use for loop to read the elements of the array from the user and append them to the array list\n",
    "for element in range(n):\n",
    "    element = int(input(\"Enter the elements of the array from the user:\"))\n",
    "    array.append(element)"
   ]
  },
  {
   "cell_type": "code",
   "execution_count": 14,
   "id": "7adf45a0",
   "metadata": {},
   "outputs": [],
   "source": [
    "# a boolean variable is_ascending is initialized as True, assuming the array is in ascending order initially\n",
    "is_ascending = True"
   ]
  },
  {
   "cell_type": "code",
   "execution_count": 15,
   "id": "fe0218f9",
   "metadata": {},
   "outputs": [],
   "source": [
    "# for loop is used to iterate over the elements of the array\n",
    "for i in range(1, n):\n",
    "    if array[i] < array[i-1]:\n",
    "        is_ascending = False\n",
    "        break"
   ]
  },
  {
   "cell_type": "code",
   "execution_count": 16,
   "id": "9ea4bdd5",
   "metadata": {},
   "outputs": [
    {
     "name": "stdout",
     "output_type": "stream",
     "text": [
      "The array is in ascending order.\n"
     ]
    }
   ],
   "source": [
    "# display the result\n",
    "if is_ascending:\n",
    "    print(\"The array is in ascending order.\")\n",
    "else:\n",
    "    print(\"The array is not in ascending order.\")"
   ]
  }
 ],
 "metadata": {
  "kernelspec": {
   "display_name": "venv",
   "language": "python",
   "name": "python3"
  },
  "language_info": {
   "codemirror_mode": {
    "name": "ipython",
    "version": 3
   },
   "file_extension": ".py",
   "mimetype": "text/x-python",
   "name": "python",
   "nbconvert_exporter": "python",
   "pygments_lexer": "ipython3",
   "version": "3.12.3"
  }
 },
 "nbformat": 4,
 "nbformat_minor": 5
}
