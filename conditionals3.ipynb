{
 "cells": [
  {
   "cell_type": "markdown",
   "id": "8fb428c9",
   "metadata": {},
   "source": [
    "# 18. Write a program that asks the user for three numbers and displays the\n",
    "# largest one."
   ]
  },
  {
   "cell_type": "code",
   "execution_count": 12,
   "id": "557bf055",
   "metadata": {},
   "outputs": [],
   "source": [
    "# prompt users for three numbers\n",
    "num1 = int(input(\"Enter the first number: \"))\n",
    "num2 = int(input(\"Enter the second number: \"))\n",
    "num3 = int(input(\"Enter the third number: \"))"
   ]
  },
  {
   "cell_type": "code",
   "execution_count": 13,
   "id": "178343fd",
   "metadata": {},
   "outputs": [],
   "source": [
    "# determine the largest number using conditional statements\n",
    "if num1 >= num2 and num1 >= num3:\n",
    "    largest_number = num1\n",
    "elif num2 >= num1 and num2 >=num3:\n",
    "    largest_number = num2\n",
    "else:\n",
    "    largest_number = num3"
   ]
  },
  {
   "cell_type": "code",
   "execution_count": 14,
   "id": "a618be97",
   "metadata": {},
   "outputs": [
    {
     "name": "stdout",
     "output_type": "stream",
     "text": [
      "The largest number is:  7\n"
     ]
    }
   ],
   "source": [
    "# display the largest number to the user\n",
    "print(\"The largest number is: \", largest_number)"
   ]
  }
 ],
 "metadata": {
  "kernelspec": {
   "display_name": "venv",
   "language": "python",
   "name": "python3"
  },
  "language_info": {
   "codemirror_mode": {
    "name": "ipython",
    "version": 3
   },
   "file_extension": ".py",
   "mimetype": "text/x-python",
   "name": "python",
   "nbconvert_exporter": "python",
   "pygments_lexer": "ipython3",
   "version": "3.12.3"
  }
 },
 "nbformat": 4,
 "nbformat_minor": 5
}
