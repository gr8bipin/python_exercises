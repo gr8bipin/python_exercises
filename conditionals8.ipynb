{
 "cells": [
  {
   "cell_type": "markdown",
   "id": "17715b40",
   "metadata": {},
   "source": [
    "# 24. Create a program that reads three numbers and checks if their sum is\n",
    "# positive, negative or equal to zero"
   ]
  },
  {
   "cell_type": "code",
   "execution_count": 4,
   "id": "3fdb861a",
   "metadata": {},
   "outputs": [],
   "source": [
    "# prompt user for three numbers\n",
    "num1 = int(input(\"Enter first number: \"))\n",
    "num2 = int(input(\"Enter second number: \"))\n",
    "num3 = int(input(\"Enter third number: \"))"
   ]
  },
  {
   "cell_type": "code",
   "execution_count": 5,
   "id": "0ffbdfe0",
   "metadata": {},
   "outputs": [],
   "source": [
    "# find sum of three numbers\n",
    "sum = num1 + num2 + num3"
   ]
  },
  {
   "cell_type": "code",
   "execution_count": 6,
   "id": "154dad1d",
   "metadata": {},
   "outputs": [
    {
     "name": "stdout",
     "output_type": "stream",
     "text": [
      "The sum  of three numbers is positive.\n"
     ]
    }
   ],
   "source": [
    "# check if their sum is positive, negative or equal to zero\n",
    "if sum > 0:\n",
    "    print(\"The sum  of three numbers is positive.\")\n",
    "elif sum < 0:\n",
    "    print(\"The sum of three numbers is negative.\")\n",
    "else:\n",
    "    print(\"The sum of three numbers is 0.\")"
   ]
  }
 ],
 "metadata": {
  "kernelspec": {
   "display_name": "venv",
   "language": "python",
   "name": "python3"
  },
  "language_info": {
   "codemirror_mode": {
    "name": "ipython",
    "version": 3
   },
   "file_extension": ".py",
   "mimetype": "text/x-python",
   "name": "python",
   "nbconvert_exporter": "python",
   "pygments_lexer": "ipython3",
   "version": "3.12.3"
  }
 },
 "nbformat": 4,
 "nbformat_minor": 5
}
