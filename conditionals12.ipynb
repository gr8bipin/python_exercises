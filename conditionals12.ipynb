{
 "cells": [
  {
   "cell_type": "markdown",
   "id": "7b58072b",
   "metadata": {},
   "source": [
    "# 28. Make a program that reads the year of birth of a person and informs if he\n",
    "# is able to vote (age greater than or equal to 16 years old)."
   ]
  },
  {
   "cell_type": "code",
   "execution_count": 5,
   "id": "c1b094ce",
   "metadata": {},
   "outputs": [],
   "source": [
    "# prompt user for his year of birth\n",
    "year_of_birth = int(input(\"Enter your year of birth: \"))"
   ]
  },
  {
   "cell_type": "code",
   "execution_count": 6,
   "id": "98878a40",
   "metadata": {},
   "outputs": [],
   "source": [
    "# calculate the current year\n",
    "import datetime\n",
    "current_year = datetime.datetime.now().year"
   ]
  },
  {
   "cell_type": "code",
   "execution_count": 7,
   "id": "3ce067d4",
   "metadata": {},
   "outputs": [],
   "source": [
    "# calculate the age of the person\n",
    "age = current_year - year_of_birth"
   ]
  },
  {
   "cell_type": "code",
   "execution_count": 8,
   "id": "e4fe5d88",
   "metadata": {},
   "outputs": [
    {
     "name": "stdout",
     "output_type": "stream",
     "text": [
      "You are eligible to vote!\n"
     ]
    }
   ],
   "source": [
    "# check if he is eligible to vote\n",
    "if age >= 16:\n",
    "    print(\"You are eligible to vote!\")\n",
    "else:\n",
    "    print(\"You are not eligible to vote yet.\")"
   ]
  }
 ],
 "metadata": {
  "kernelspec": {
   "display_name": "venv",
   "language": "python",
   "name": "python3"
  },
  "language_info": {
   "codemirror_mode": {
    "name": "ipython",
    "version": 3
   },
   "file_extension": ".py",
   "mimetype": "text/x-python",
   "name": "python",
   "nbconvert_exporter": "python",
   "pygments_lexer": "ipython3",
   "version": "3.12.3"
  }
 },
 "nbformat": 4,
 "nbformat_minor": 5
}
