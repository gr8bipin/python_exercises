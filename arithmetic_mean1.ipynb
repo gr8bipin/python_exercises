{
 "cells": [
  {
   "cell_type": "markdown",
   "id": "70d1649c",
   "metadata": {},
   "source": [
    "# 3. Create a program that calculates and displays the arithmetic\n",
    "# mean of three grades entered by the user."
   ]
  },
  {
   "cell_type": "code",
   "execution_count": 4,
   "id": "c0d0a8fa",
   "metadata": {},
   "outputs": [],
   "source": [
    "# Prompt the user for three grades\n",
    "grade1 = float(input(\"Enter the first grade: \"))\n",
    "grade2 = float(input(\"Enter the second grade: \"))\n",
    "grade3 = float(input(\"Enter the third grade: \"))"
   ]
  },
  {
   "cell_type": "code",
   "execution_count": 5,
   "id": "fea112e5",
   "metadata": {},
   "outputs": [],
   "source": [
    "# Calculate the arithmetic mean\n",
    "mean = (grade1 + grade2 + grade3) / 3"
   ]
  },
  {
   "cell_type": "code",
   "execution_count": null,
   "id": "f9215ff2",
   "metadata": {},
   "outputs": [
    {
     "name": "stdout",
     "output_type": "stream",
     "text": [
      "Arithmetic mean:  20.0\n"
     ]
    }
   ],
   "source": [
    "# Display the result\n",
    "print(\"Arithmetic mean:\", mean)"
   ]
  },
  {
   "cell_type": "code",
   "execution_count": null,
   "id": "e5b29e87",
   "metadata": {},
   "outputs": [],
   "source": []
  }
 ],
 "metadata": {
  "kernelspec": {
   "display_name": "venv",
   "language": "python",
   "name": "python3"
  },
  "language_info": {
   "codemirror_mode": {
    "name": "ipython",
    "version": 3
   },
   "file_extension": ".py",
   "mimetype": "text/x-python",
   "name": "python",
   "nbconvert_exporter": "python",
   "pygments_lexer": "ipython3",
   "version": "3.12.3"
  }
 },
 "nbformat": 4,
 "nbformat_minor": 5
}
