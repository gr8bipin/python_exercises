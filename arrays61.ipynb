{
 "cells": [
  {
   "cell_type": "markdown",
   "id": "5425fc64",
   "metadata": {},
   "source": [
    "# 61. Create a program that reads an array of integers and\n",
    "# displays the sum of all the elements.."
   ]
  },
  {
   "cell_type": "code",
   "execution_count": 2,
   "id": "e37d5a5d",
   "metadata": {},
   "outputs": [],
   "source": [
    "# prompt the user for the number of elements in the array\n",
    "n = int(input(\"Enter the number of elements: \"))"
   ]
  },
  {
   "cell_type": "code",
   "execution_count": 3,
   "id": "23ccadcd",
   "metadata": {},
   "outputs": [],
   "source": [
    "# initialize an empty list to store the elements\n",
    "array = []"
   ]
  },
  {
   "cell_type": "code",
   "execution_count": 4,
   "id": "a1133919",
   "metadata": {},
   "outputs": [],
   "source": [
    "# read the elements from the user\n",
    "for i in range(n):\n",
    "    element = int(input(\"Enter element {}: \".format(i + 1)))\n",
    "    array.append(element)"
   ]
  },
  {
   "cell_type": "code",
   "execution_count": 5,
   "id": "5963c9e6",
   "metadata": {},
   "outputs": [],
   "source": [
    "# calculate the sum of all the elements\n",
    "sum = 0\n",
    "for element in array:\n",
    "    sum += element"
   ]
  },
  {
   "cell_type": "code",
   "execution_count": 7,
   "id": "5f42d3ca",
   "metadata": {},
   "outputs": [
    {
     "name": "stdout",
     "output_type": "stream",
     "text": [
      "Sum of all the elements: 15\n"
     ]
    }
   ],
   "source": [
    "# display the sum of all elements\n",
    "print(\"Sum of all the elements:\", sum)"
   ]
  },
  {
   "cell_type": "code",
   "execution_count": 8,
   "id": "585044e1",
   "metadata": {},
   "outputs": [],
   "source": [
    "# Using a while loop"
   ]
  },
  {
   "cell_type": "code",
   "execution_count": 9,
   "id": "168fab39",
   "metadata": {},
   "outputs": [],
   "source": [
    "# prompt the user for the number of elements in the array\n",
    "n = int((input(\"Enter the number of elements: \")))"
   ]
  },
  {
   "cell_type": "code",
   "execution_count": 10,
   "id": "58aec039",
   "metadata": {},
   "outputs": [],
   "source": [
    "# initialize an empty list to store the elements\n",
    "array = []"
   ]
  },
  {
   "cell_type": "code",
   "execution_count": 11,
   "id": "5e52f1ae",
   "metadata": {},
   "outputs": [],
   "source": [
    "# read the elements from the user\n",
    "i = 0\n",
    "while i < n:\n",
    "    element = int(input(\"Enter element {}: \".format(i + 1)))\n",
    "    array.append(element)\n",
    "    i += 1"
   ]
  },
  {
   "cell_type": "code",
   "execution_count": 12,
   "id": "be3b1176",
   "metadata": {},
   "outputs": [],
   "source": [
    "# calculate the sum of all the elements\n",
    "sum = 0\n",
    "i = 0\n",
    "while i < len(array):\n",
    "    sum += array[i]\n",
    "    i += 1"
   ]
  },
  {
   "cell_type": "code",
   "execution_count": 13,
   "id": "bbf03faa",
   "metadata": {},
   "outputs": [
    {
     "name": "stdout",
     "output_type": "stream",
     "text": [
      "Sum of all the elements: 55\n"
     ]
    }
   ],
   "source": [
    "# display the sum of all the elements\n",
    "print(\"Sum of all the elements:\", sum)"
   ]
  }
 ],
 "metadata": {
  "kernelspec": {
   "display_name": "venv",
   "language": "python",
   "name": "python3"
  },
  "language_info": {
   "codemirror_mode": {
    "name": "ipython",
    "version": 3
   },
   "file_extension": ".py",
   "mimetype": "text/x-python",
   "name": "python",
   "nbconvert_exporter": "python",
   "pygments_lexer": "ipython3",
   "version": "3.12.3"
  }
 },
 "nbformat": 4,
 "nbformat_minor": 5
}
