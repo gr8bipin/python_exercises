{
 "cells": [
  {
   "cell_type": "markdown",
   "id": "6514bd8c",
   "metadata": {},
   "source": [
    "# 27. Write a program that reads three numbers and tells you if they can be the\n",
    "# sides of a triangle (the sum of two sides must always be greater than the third\n",
    "# side)."
   ]
  },
  {
   "cell_type": "code",
   "execution_count": 3,
   "id": "969af13d",
   "metadata": {},
   "outputs": [],
   "source": [
    "# prompt the user for three numbers\n",
    "side_a = float(input(\"Enter the length of the first side: \"))\n",
    "side_b = float(input(\"Enter the length of the second side: \"))\n",
    "side_c = float(input(\"Enter the length of the third side: \"))"
   ]
  },
  {
   "cell_type": "code",
   "execution_count": 4,
   "id": "05159fb4",
   "metadata": {},
   "outputs": [
    {
     "name": "stdout",
     "output_type": "stream",
     "text": [
      "The three sides cannot form a triangle.\n"
     ]
    }
   ],
   "source": [
    "# check if the three sides can form a triangle\n",
    "if side_a + side_b > side_c and side_a + side_c > side_b and side_b + side_c > side_a:\n",
    "    print(\"The three sides can form a triangle.\")\n",
    "else:\n",
    "    print(\"The three sides cannot form a triangle.\")"
   ]
  }
 ],
 "metadata": {
  "kernelspec": {
   "display_name": "venv",
   "language": "python",
   "name": "python3"
  },
  "language_info": {
   "codemirror_mode": {
    "name": "ipython",
    "version": 3
   },
   "file_extension": ".py",
   "mimetype": "text/x-python",
   "name": "python",
   "nbconvert_exporter": "python",
   "pygments_lexer": "ipython3",
   "version": "3.12.3"
  }
 },
 "nbformat": 4,
 "nbformat_minor": 5
}
