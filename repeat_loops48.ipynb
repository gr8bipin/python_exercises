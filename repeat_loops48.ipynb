{
 "cells": [
  {
   "cell_type": "markdown",
   "id": "cbdfe792",
   "metadata": {},
   "source": [
    "# 48. Create a program that displays the first N first perfect\n",
    "# squares, where N is informed by the user, using a loop."
   ]
  },
  {
   "cell_type": "code",
   "execution_count": 5,
   "id": "bb0762ea",
   "metadata": {},
   "outputs": [],
   "source": [
    "# prompt the user for a number\n",
    "N = int(input(\"Enter the value of N: \"))"
   ]
  },
  {
   "cell_type": "code",
   "execution_count": 6,
   "id": "b7f2271f",
   "metadata": {},
   "outputs": [],
   "source": [
    "count = 0 # Initialize a counter to keep track of the number of perfect squares found\n",
    "num = 1 # start with the first positive integer"
   ]
  },
  {
   "cell_type": "markdown",
   "id": "c78aca8a",
   "metadata": {},
   "source": []
  },
  {
   "cell_type": "code",
   "execution_count": 7,
   "id": "86f0d378",
   "metadata": {},
   "outputs": [
    {
     "name": "stdout",
     "output_type": "stream",
     "text": [
      "1 4 9 16 25 \n"
     ]
    }
   ],
   "source": [
    "while count < N:\n",
    "    square = num ** 2 # calculate the square of the current number\n",
    "\n",
    "    # display the perfect square\n",
    "    print(square, end=\" \")\n",
    "    count += 1\n",
    "\n",
    "    num += 1 # move to the next number\n",
    "\n",
    "# add a new line for better output formatting\n",
    "print()"
   ]
  }
 ],
 "metadata": {
  "kernelspec": {
   "display_name": "venv",
   "language": "python",
   "name": "python3"
  },
  "language_info": {
   "codemirror_mode": {
    "name": "ipython",
    "version": 3
   },
   "file_extension": ".py",
   "mimetype": "text/x-python",
   "name": "python",
   "nbconvert_exporter": "python",
   "pygments_lexer": "ipython3",
   "version": "3.12.3"
  }
 },
 "nbformat": 4,
 "nbformat_minor": 5
}
