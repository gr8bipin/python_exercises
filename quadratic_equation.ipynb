{
 "cells": [
  {
   "cell_type": "markdown",
   "id": "a8e2e277",
   "metadata": {},
   "source": [
    "# 8. Write a program that calculates the delta of a quadratic\n",
    "# equation (delta = b² - 4ac)."
   ]
  },
  {
   "cell_type": "code",
   "execution_count": 3,
   "id": "7e7109da",
   "metadata": {},
   "outputs": [],
   "source": [
    "# prompt user for coefficients of quadractic equation\n",
    "a = float(input(\"Enter the coefficient a: \"))\n",
    "b = float(input(\"Enter the coefficient b: \"))\n",
    "c = float(input(\"Enter the coefficient c: \"))"
   ]
  },
  {
   "cell_type": "code",
   "execution_count": null,
   "id": "d99463cb",
   "metadata": {},
   "outputs": [],
   "source": [
    "# calculate the delta of a quadratic equation\n",
    "delta = b * 2 - 4 * a * c"
   ]
  },
  {
   "cell_type": "code",
   "execution_count": 5,
   "id": "25f37d89",
   "metadata": {},
   "outputs": [
    {
     "name": "stdout",
     "output_type": "stream",
     "text": [
      "-1160.0\n"
     ]
    }
   ],
   "source": [
    "# display the delta of a quadratic equation\n",
    "print(delta)"
   ]
  }
 ],
 "metadata": {
  "kernelspec": {
   "display_name": "venv",
   "language": "python",
   "name": "python3"
  },
  "language_info": {
   "codemirror_mode": {
    "name": "ipython",
    "version": 3
   },
   "file_extension": ".py",
   "mimetype": "text/x-python",
   "name": "python",
   "nbconvert_exporter": "python",
   "pygments_lexer": "ipython3",
   "version": "3.12.3"
  }
 },
 "nbformat": 4,
 "nbformat_minor": 5
}
