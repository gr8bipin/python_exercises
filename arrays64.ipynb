{
 "cells": [
  {
   "cell_type": "markdown",
   "id": "a61a6b38",
   "metadata": {},
   "source": [
    "# 64. Create a program that reads two vectors of integers of the\n",
    "# same size and displays a new vector with the sum of the\n",
    "# corresponding elements of the two vectors."
   ]
  },
  {
   "cell_type": "code",
   "execution_count": 10,
   "id": "3971e0e3",
   "metadata": {},
   "outputs": [],
   "source": [
    "# prompt the user to enter same size of the vectors\n",
    "n = int(input(\"Enter the size of the vectors:\"))"
   ]
  },
  {
   "cell_type": "code",
   "execution_count": 11,
   "id": "906ee933",
   "metadata": {},
   "outputs": [],
   "source": [
    "# initialize empty lists vector1 and vector2\n",
    "vector1 = []\n",
    "vector2 = []"
   ]
  },
  {
   "cell_type": "code",
   "execution_count": 12,
   "id": "ad48de7e",
   "metadata": {},
   "outputs": [],
   "source": [
    "# read the elements of the vector1 from the user and append them to vector1\n",
    "for element in range(n):\n",
    "    element = int(input(\"Enter the elements of vector1 from the user:\"))\n",
    "    vector1.append(element)\n",
    "# read the elements of the vector2 from the user and append them to vector2\n",
    "for element in range(n):\n",
    "    element = int(input(\"Enter the elements of vector2 from the user:\"))\n",
    "    vector2.append(element)"
   ]
  },
  {
   "cell_type": "code",
   "execution_count": 13,
   "id": "43b26960",
   "metadata": {},
   "outputs": [],
   "source": [
    "# initialize result_vector to store the sum of the corresponding elements of the two vectors and set it to 0\n",
    "result_vector = []"
   ]
  },
  {
   "cell_type": "code",
   "execution_count": 14,
   "id": "26b40723",
   "metadata": {},
   "outputs": [],
   "source": [
    "# calculate the sum of the corresponding elements and store it in the result vector \n",
    "for i in range(n):\n",
    "    sum_element = vector1[i] + vector2[i]\n",
    "    result_vector.append(sum_element)"
   ]
  },
  {
   "cell_type": "code",
   "execution_count": 15,
   "id": "9131eeff",
   "metadata": {},
   "outputs": [
    {
     "name": "stdout",
     "output_type": "stream",
     "text": [
      "Resulting vector (sum of corresponding elements): [10, 10, 10, 10, 10]\n"
     ]
    }
   ],
   "source": [
    "# display the resulting vector\n",
    "print(\"Resulting vector (sum of corresponding elements):\", result_vector)"
   ]
  }
 ],
 "metadata": {
  "kernelspec": {
   "display_name": "venv",
   "language": "python",
   "name": "python3"
  },
  "language_info": {
   "codemirror_mode": {
    "name": "ipython",
    "version": 3
   },
   "file_extension": ".py",
   "mimetype": "text/x-python",
   "name": "python",
   "nbconvert_exporter": "python",
   "pygments_lexer": "ipython3",
   "version": "3.12.3"
  }
 },
 "nbformat": 4,
 "nbformat_minor": 5
}
