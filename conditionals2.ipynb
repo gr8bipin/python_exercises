{
 "cells": [
  {
   "cell_type": "markdown",
   "id": "8b68ac9e",
   "metadata": {},
   "source": [
    "# 17. Write a program that reads two numbers and tells you which one is\n",
    "# bigger."
   ]
  },
  {
   "cell_type": "code",
   "execution_count": 4,
   "id": "6aecc61d",
   "metadata": {},
   "outputs": [],
   "source": [
    "# prompt the user for the first number\n",
    "number1 = int(input(\"Enter the first number: \"))"
   ]
  },
  {
   "cell_type": "markdown",
   "id": "8623d0c0",
   "metadata": {},
   "source": []
  },
  {
   "cell_type": "code",
   "execution_count": 5,
   "id": "a8d0b21f",
   "metadata": {},
   "outputs": [],
   "source": [
    "# prompt the user for the second number\n",
    "number2 = int(input(\"Enter the second number: \"))"
   ]
  },
  {
   "cell_type": "code",
   "execution_count": 6,
   "id": "c15c4fa8",
   "metadata": {},
   "outputs": [
    {
     "name": "stdout",
     "output_type": "stream",
     "text": [
      "The second number is bigger.\n"
     ]
    }
   ],
   "source": [
    "# compares the number and check which is the bigger one\n",
    "if number1 > number2:\n",
    "    print(\"The first number is bigger. \")\n",
    "elif number1 < number2:\n",
    "    print(\"The second number is bigger.\")\n",
    "else:\n",
    "    print(\"Both numbers are equal.\")"
   ]
  }
 ],
 "metadata": {
  "kernelspec": {
   "display_name": "venv",
   "language": "python",
   "name": "python3"
  },
  "language_info": {
   "codemirror_mode": {
    "name": "ipython",
    "version": 3
   },
   "file_extension": ".py",
   "mimetype": "text/x-python",
   "name": "python",
   "nbconvert_exporter": "python",
   "pygments_lexer": "ipython3",
   "version": "3.12.3"
  }
 },
 "nbformat": 4,
 "nbformat_minor": 5
}
