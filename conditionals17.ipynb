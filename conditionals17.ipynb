{
 "cells": [
  {
   "cell_type": "markdown",
   "id": "55ad6ee5",
   "metadata": {},
   "source": [
    "# 33. Write a program that asks for an integer and checks if it is divisible by 3\n",
    "# and 5 at the same time."
   ]
  },
  {
   "cell_type": "code",
   "execution_count": 5,
   "id": "c622b2c8",
   "metadata": {},
   "outputs": [],
   "source": [
    "# prompt user for an integer\n",
    "integer = int(input(\"Enter an integer: \"))"
   ]
  },
  {
   "cell_type": "code",
   "execution_count": 6,
   "id": "4c75725a",
   "metadata": {},
   "outputs": [],
   "source": [
    "# check if the integer is divisible by 3 and 5 at the same time\n",
    "if integer % 3 == 0 and integer % 5 == 0:\n",
    "    result = \"divisible by 3 and 5\"\n",
    "else:\n",
    "    result = \"not divisible by 3 and 5\""
   ]
  },
  {
   "cell_type": "code",
   "execution_count": 7,
   "id": "0f40d3bc",
   "metadata": {},
   "outputs": [
    {
     "name": "stdout",
     "output_type": "stream",
     "text": [
      "The number 15 is divisible by 3 and 5.\n"
     ]
    }
   ],
   "source": [
    "# Display the result\n",
    "print(f\"The number {integer} is {result}.\")"
   ]
  },
  {
   "cell_type": "markdown",
   "id": "965ecebe",
   "metadata": {},
   "source": []
  }
 ],
 "metadata": {
  "kernelspec": {
   "display_name": "venv",
   "language": "python",
   "name": "python3"
  },
  "language_info": {
   "codemirror_mode": {
    "name": "ipython",
    "version": 3
   },
   "file_extension": ".py",
   "mimetype": "text/x-python",
   "name": "python",
   "nbconvert_exporter": "python",
   "pygments_lexer": "ipython3",
   "version": "3.12.3"
  }
 },
 "nbformat": 4,
 "nbformat_minor": 5
}
