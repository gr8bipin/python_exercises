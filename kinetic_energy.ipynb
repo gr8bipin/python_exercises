{
 "cells": [
  {
   "cell_type": "markdown",
   "id": "229a8024",
   "metadata": {},
   "source": [
    "# 12. Write a program that calculates the kinetic energy of a\n",
    "# moving object, using the formula E = (mv²) / 2, where E is the\n",
    "# kinetic energy, m is the mass of the object, and v is the velocity."
   ]
  },
  {
   "cell_type": "code",
   "execution_count": null,
   "id": "4a647173",
   "metadata": {},
   "outputs": [],
   "source": [
    "# prompt the user for the mass and velocity of the object\n",
    "mass = float(input(\"Enter the mass of the object: \"))\n",
    "velocity = float(input(\"Enter the velocity of the object: \"))"
   ]
  },
  {
   "cell_type": "code",
   "execution_count": null,
   "id": "f965af08",
   "metadata": {},
   "outputs": [],
   "source": [
    "# calculate the kinetic energy\n",
    "kinetic_energy = (mass * velocity ** 2) / 2"
   ]
  },
  {
   "cell_type": "code",
   "execution_count": null,
   "id": "daec6d97",
   "metadata": {},
   "outputs": [],
   "source": [
    "# display the result\n",
    "print(\"The kinetic energy of the object is: \", kinetic_energy)"
   ]
  }
 ],
 "metadata": {
  "language_info": {
   "name": "python"
  }
 },
 "nbformat": 4,
 "nbformat_minor": 5
}
