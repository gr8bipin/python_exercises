{
 "cells": [
  {
   "cell_type": "markdown",
   "id": "d27ea1b5",
   "metadata": {},
   "source": [
    "# 45. Write a program that asks the user for a number N and\n",
    "# says whether it is prime or not."
   ]
  },
  {
   "cell_type": "code",
   "execution_count": 2,
   "id": "d261ff43",
   "metadata": {},
   "outputs": [],
   "source": [
    "# A number n is not prime if it has a divisor other than 1 and itself."
   ]
  },
  {
   "cell_type": "code",
   "execution_count": 1,
   "id": "0d16e229",
   "metadata": {},
   "outputs": [],
   "source": [
    "# here is a simple python program that asks the user for a number N and tells whether it is prime or not:"
   ]
  },
  {
   "cell_type": "code",
   "execution_count": null,
   "id": "bd3a7d45",
   "metadata": {},
   "outputs": [
    {
     "name": "stdout",
     "output_type": "stream",
     "text": [
      "5 is a prime number.\n"
     ]
    }
   ],
   "source": [
    "N = int(input(\"Enter a number: \"))\n",
    "\n",
    "if N <= 1:\n",
    "    print(f\"{N} is not a prime number.\")\n",
    "else:\n",
    "    is_prime = True # if N is greater than 1, we assume it might be a prime number by setting a flag is_prime = True\n",
    "    for i in range(2, N):\n",
    "        if N % i == 0:\n",
    "            is_prime = False\n",
    "            break\n",
    "    if is_prime:\n",
    "        print(f\"{N} is a prime number.\")\n",
    "    else:\n",
    "        print(f\"{N} is not a prime number.\")"
   ]
  }
 ],
 "metadata": {
  "kernelspec": {
   "display_name": "venv",
   "language": "python",
   "name": "python3"
  },
  "language_info": {
   "codemirror_mode": {
    "name": "ipython",
    "version": 3
   },
   "file_extension": ".py",
   "mimetype": "text/x-python",
   "name": "python",
   "nbconvert_exporter": "python",
   "pygments_lexer": "ipython3",
   "version": "3.12.3"
  }
 },
 "nbformat": 4,
 "nbformat_minor": 5
}
