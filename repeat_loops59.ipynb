{
 "cells": [
  {
   "cell_type": "markdown",
   "id": "1401a8e6",
   "metadata": {},
   "source": [
    "# 59. Rewrite the previous exercise code until the difference\n",
    "# between the terms is less than 0.001"
   ]
  },
  {
   "cell_type": "code",
   "execution_count": 10,
   "id": "6bed66d2",
   "metadata": {},
   "outputs": [],
   "source": [
    "# Import the math library\n",
    "import math # This allows access to functions like math.exp()."
   ]
  },
  {
   "cell_type": "code",
   "execution_count": 11,
   "id": "a5e3aea9",
   "metadata": {},
   "outputs": [],
   "source": [
    "# Get user input:\n",
    "# prompt the user for the value of x which will be used to compute e^x\n",
    "x = float(input(\"Enter the value of x: \"))"
   ]
  },
  {
   "cell_type": "code",
   "execution_count": 12,
   "id": "c5d532b1",
   "metadata": {},
   "outputs": [],
   "source": [
    "# initialize values for the Taylor series\n",
    "term = 1.0 # current term in the series\n",
    "sum = 1.0 # sum of terms or cumulative result of the series\n",
    "n = 1 # denominator value or factorial counter"
   ]
  },
  {
   "cell_type": "code",
   "execution_count": 13,
   "id": "f0413ab9",
   "metadata": {},
   "outputs": [],
   "source": [
    "# Compute Taylor series approximation of e^x\n",
    "while abs(term) >= 0.001: # ensuring that the difference between consecutive terms is less than the desired threshold\n",
    "    term *= x / n # we update the term by multiplying it with x / n, where x is the user-provided value and n is the current denominator value.\n",
    "    sum += term # add the updated term to the sum\n",
    "    n += 1 # increment the value of n by 1"
   ]
  },
  {
   "cell_type": "code",
   "execution_count": 14,
   "id": "b95a80a6",
   "metadata": {},
   "outputs": [],
   "source": [
    "# compute true value using math.exp(x)\n",
    "# calculate e^x using the math library's exponential function\n",
    "math_result = math.exp(x) # python's built-in exponential function"
   ]
  },
  {
   "cell_type": "code",
   "execution_count": 15,
   "id": "13bc12b2",
   "metadata": {},
   "outputs": [
    {
     "name": "stdout",
     "output_type": "stream",
     "text": [
      "Result (Custom Calculation): 2.7182539682539684\n",
      "Result (math.exp): 2.718281828459045\n"
     ]
    }
   ],
   "source": [
    "# display the calculated result and the math library's result\n",
    "print(\"Result (Custom Calculation):\", sum)\n",
    "print(\"Result (math.exp):\", math_result)"
   ]
  },
  {
   "cell_type": "markdown",
   "id": "81316fb0",
   "metadata": {},
   "source": []
  }
 ],
 "metadata": {
  "kernelspec": {
   "display_name": "venv",
   "language": "python",
   "name": "python3"
  },
  "language_info": {
   "codemirror_mode": {
    "name": "ipython",
    "version": 3
   },
   "file_extension": ".py",
   "mimetype": "text/x-python",
   "name": "python",
   "nbconvert_exporter": "python",
   "pygments_lexer": "ipython3",
   "version": "3.12.3"
  }
 },
 "nbformat": 4,
 "nbformat_minor": 5
}
