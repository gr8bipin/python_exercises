{
 "cells": [
  {
   "cell_type": "markdown",
   "id": "ec509c6e",
   "metadata": {},
   "source": [
    "# 52. Write a program that reads numbers from the user until\n",
    "# zero is entered, and displays the average of the numbers\n",
    "# entered."
   ]
  },
  {
   "cell_type": "code",
   "execution_count": 4,
   "id": "ddbb83d5",
   "metadata": {},
   "outputs": [],
   "source": [
    "# initialize variables\n",
    "total = 0\n",
    "count = 0"
   ]
  },
  {
   "cell_type": "code",
   "execution_count": 5,
   "id": "5b739fa4",
   "metadata": {},
   "outputs": [
    {
     "name": "stdout",
     "output_type": "stream",
     "text": [
      "No numbers were entered.\n"
     ]
    }
   ],
   "source": [
    "# read numbers from the user until zero is entered\n",
    "while True:\n",
    "    number = int(input(\"Enter a number (enter 0 to stop): \"))\n",
    "\n",
    "    # check if the number is zero\n",
    "    if number == 0:\n",
    "        break\n",
    "\n",
    "    # Add the number to the total and increment the count \n",
    "    total += number\n",
    "    count += 1\n",
    "\n",
    "# calculate the average\n",
    "if count > 0:\n",
    "    average = total / count\n",
    "    print(\"Average:\", average)\n",
    "else:\n",
    "    print(\"No numbers were entered.\")"
   ]
  },
  {
   "cell_type": "markdown",
   "id": "63031276",
   "metadata": {},
   "source": []
  }
 ],
 "metadata": {
  "kernelspec": {
   "display_name": "venv",
   "language": "python",
   "name": "python3"
  },
  "language_info": {
   "codemirror_mode": {
    "name": "ipython",
    "version": 3
   },
   "file_extension": ".py",
   "mimetype": "text/x-python",
   "name": "python",
   "nbconvert_exporter": "python",
   "pygments_lexer": "ipython3",
   "version": "3.12.3"
  }
 },
 "nbformat": 4,
 "nbformat_minor": 5
}
