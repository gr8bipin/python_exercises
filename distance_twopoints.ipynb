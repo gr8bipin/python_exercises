{
 "cells": [
  {
   "cell_type": "markdown",
   "id": "dd5dba3f",
   "metadata": {},
   "source": [
    "# 14. Write a program that reads the x and y position of two\n",
    "# points in the Cartesian plane, and calculates the distance\n",
    "# between them."
   ]
  },
  {
   "cell_type": "code",
   "execution_count": 4,
   "id": "87808ad7",
   "metadata": {},
   "outputs": [],
   "source": [
    "import math"
   ]
  },
  {
   "cell_type": "code",
   "execution_count": 5,
   "id": "bcf1ca36",
   "metadata": {},
   "outputs": [],
   "source": [
    "# prompt the user for the coordinates of point 1\n",
    "x1 = float(input(\"Enter the x-coordinate of point 1: \"))\n",
    "y1 = float(input(\"Enter the y-coordinate of point 1: \"))"
   ]
  },
  {
   "cell_type": "markdown",
   "id": "76670635",
   "metadata": {},
   "source": []
  },
  {
   "cell_type": "code",
   "execution_count": 6,
   "id": "4aa3303c",
   "metadata": {},
   "outputs": [],
   "source": [
    "# prompt the user for the coordinates of point 2\n",
    "x2 = float(input(\"Enter the x-coordinate of point 2: \"))\n",
    "y2 = float(input(\"Enter the y-coordinate of point 2: \"))"
   ]
  },
  {
   "cell_type": "code",
   "execution_count": 7,
   "id": "b5d5a01e",
   "metadata": {},
   "outputs": [],
   "source": [
    "# calculate the distance between two points\n",
    "distance = math.sqrt((x2 - x1) ** 2 + (y2 - y1) ** 2)"
   ]
  },
  {
   "cell_type": "code",
   "execution_count": 8,
   "id": "646ce7a8",
   "metadata": {},
   "outputs": [
    {
     "name": "stdout",
     "output_type": "stream",
     "text": [
      "The distance between the two points is:  7.0710678118654755\n"
     ]
    }
   ],
   "source": [
    "# display the result\n",
    "print(\"The distance between the two points is: \", distance)"
   ]
  }
 ],
 "metadata": {
  "kernelspec": {
   "display_name": "venv",
   "language": "python",
   "name": "python3"
  },
  "language_info": {
   "codemirror_mode": {
    "name": "ipython",
    "version": 3
   },
   "file_extension": ".py",
   "mimetype": "text/x-python",
   "name": "python",
   "nbconvert_exporter": "python",
   "pygments_lexer": "ipython3",
   "version": "3.12.3"
  }
 },
 "nbformat": 4,
 "nbformat_minor": 5
}
