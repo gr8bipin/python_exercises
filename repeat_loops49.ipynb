{
 "cells": [
  {
   "cell_type": "markdown",
   "id": "f7fed332",
   "metadata": {},
   "source": [
    "# 49. Write a program that prompts the user for two numbers A\n",
    "# and B and displays all numbers between A and B."
   ]
  },
  {
   "cell_type": "code",
   "execution_count": 2,
   "id": "8bcf1ece",
   "metadata": {},
   "outputs": [],
   "source": [
    "# Solution 1"
   ]
  },
  {
   "cell_type": "code",
   "execution_count": 3,
   "id": "d5b4303d",
   "metadata": {},
   "outputs": [],
   "source": [
    "# prompt the user for the two numbers\n",
    "A = int(input(\"Enter the value of A: \"))\n",
    "B = int(input(\"Enter the value of B: \"))"
   ]
  },
  {
   "cell_type": "code",
   "execution_count": 4,
   "id": "cd4d3ce3",
   "metadata": {},
   "outputs": [],
   "source": [
    "# Determine the starting and ending values for the loop\n",
    "start = min(A, B)\n",
    "end = max(A, B)"
   ]
  },
  {
   "cell_type": "code",
   "execution_count": 5,
   "id": "6bd5d911",
   "metadata": {},
   "outputs": [
    {
     "name": "stdout",
     "output_type": "stream",
     "text": [
      "10 11 12 13 14 15 16 17 18 19 20 "
     ]
    }
   ],
   "source": [
    "# use a for loop to iterate over the numbers between A and B (inclusive)\n",
    "for num in range(start, end + 1):\n",
    "    print(num, end=\" \")"
   ]
  },
  {
   "cell_type": "code",
   "execution_count": 6,
   "id": "136395ca",
   "metadata": {},
   "outputs": [
    {
     "name": "stdout",
     "output_type": "stream",
     "text": [
      "\n"
     ]
    }
   ],
   "source": [
    "# add a new line for better output formatting\n",
    "print()"
   ]
  }
 ],
 "metadata": {
  "kernelspec": {
   "display_name": "venv",
   "language": "python",
   "name": "python3"
  },
  "language_info": {
   "codemirror_mode": {
    "name": "ipython",
    "version": 3
   },
   "file_extension": ".py",
   "mimetype": "text/x-python",
   "name": "python",
   "nbconvert_exporter": "python",
   "pygments_lexer": "ipython3",
   "version": "3.12.3"
  }
 },
 "nbformat": 4,
 "nbformat_minor": 5
}
