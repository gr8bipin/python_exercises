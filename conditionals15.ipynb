{
 "cells": [
  {
   "cell_type": "markdown",
   "id": "2711d343",
   "metadata": {},
   "source": [
    "# 31. Write a program that asks for the name of a day of the week and displays\n",
    "# whether it is a weekday (Monday to Friday) or a weekend day (Saturday and\n",
    "# Sunday)."
   ]
  },
  {
   "cell_type": "code",
   "execution_count": 3,
   "id": "b0edc4e0",
   "metadata": {},
   "outputs": [],
   "source": [
    "# prompt user for the name of the day of the week\n",
    "day = input(\"Enter the name of the day: \")"
   ]
  },
  {
   "cell_type": "code",
   "execution_count": 4,
   "id": "3ea8015a",
   "metadata": {},
   "outputs": [],
   "source": [
    "# convert the day to lowercase for case sensitive comparison\n",
    "day = day.lower()"
   ]
  },
  {
   "cell_type": "code",
   "execution_count": 5,
   "id": "fe7b4bef",
   "metadata": {},
   "outputs": [],
   "source": [
    "# check whether it is a weekday or a weekend day\n",
    "if day == \"saturday\" or day == \"sunday\":\n",
    "    result = \"Weekend day\"\n",
    "else:\n",
    "    result = \"Weekday\""
   ]
  },
  {
   "cell_type": "code",
   "execution_count": 6,
   "id": "4ce00d10",
   "metadata": {},
   "outputs": [
    {
     "name": "stdout",
     "output_type": "stream",
     "text": [
      "Saturday is a Weekend day.\n"
     ]
    }
   ],
   "source": [
    "# display the result\n",
    "print(f\"{day.capitalize()} is a {result}.\")"
   ]
  }
 ],
 "metadata": {
  "kernelspec": {
   "display_name": "venv",
   "language": "python",
   "name": "python3"
  },
  "language_info": {
   "codemirror_mode": {
    "name": "ipython",
    "version": 3
   },
   "file_extension": ".py",
   "mimetype": "text/x-python",
   "name": "python",
   "nbconvert_exporter": "python",
   "pygments_lexer": "ipython3",
   "version": "3.12.3"
  }
 },
 "nbformat": 4,
 "nbformat_minor": 5
}
