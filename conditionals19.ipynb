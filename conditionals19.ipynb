{
 "cells": [
  {
   "cell_type": "markdown",
   "id": "112a5fc2",
   "metadata": {},
   "source": [
    "# 35. Make a program that asks for two numbers and displays if the first is\n",
    "# divisible by the second"
   ]
  },
  {
   "cell_type": "code",
   "execution_count": 1,
   "id": "7dac23bd",
   "metadata": {},
   "outputs": [],
   "source": [
    "# prompt user for two numbers\n",
    "num1 = int(input(\"Enter first number: \"))\n",
    "num2 = int(input(\"Enter second number: \"))"
   ]
  },
  {
   "cell_type": "code",
   "execution_count": 2,
   "id": "b5980f46",
   "metadata": {},
   "outputs": [],
   "source": [
    "# check if the first is divisible by the second\n",
    "if num1 % num2 == 0:\n",
    "    result = \"divisible\"\n",
    "else:\n",
    "    result = \"not divisible\""
   ]
  },
  {
   "cell_type": "code",
   "execution_count": 3,
   "id": "b7e74e9f",
   "metadata": {},
   "outputs": [
    {
     "name": "stdout",
     "output_type": "stream",
     "text": [
      "The first number is divisible by the second number.\n"
     ]
    }
   ],
   "source": [
    "# display the result\n",
    "print(f\"The first number is {result} by the second number.\")"
   ]
  }
 ],
 "metadata": {
  "kernelspec": {
   "display_name": "venv",
   "language": "python",
   "name": "python3"
  },
  "language_info": {
   "codemirror_mode": {
    "name": "ipython",
    "version": 3
   },
   "file_extension": ".py",
   "mimetype": "text/x-python",
   "name": "python",
   "nbconvert_exporter": "python",
   "pygments_lexer": "ipython3",
   "version": "3.12.3"
  }
 },
 "nbformat": 4,
 "nbformat_minor": 5
}
