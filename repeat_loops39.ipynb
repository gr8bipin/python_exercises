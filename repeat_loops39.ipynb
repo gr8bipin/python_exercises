{
 "cells": [
  {
   "cell_type": "markdown",
   "id": "4e51f889",
   "metadata": {},
   "source": [
    "# 39. Write a program that displays even numbers 1 to 50 and\n",
    "# odd numbers 51 to 100 using a repeating loop."
   ]
  },
  {
   "cell_type": "code",
   "execution_count": 4,
   "id": "4a5db0de",
   "metadata": {},
   "outputs": [],
   "source": [
    "# initialize the variable to 1\n",
    "num = 1"
   ]
  },
  {
   "cell_type": "markdown",
   "id": "478138de",
   "metadata": {},
   "source": []
  },
  {
   "cell_type": "code",
   "execution_count": 5,
   "id": "ee24aed9",
   "metadata": {},
   "outputs": [
    {
     "name": "stdout",
     "output_type": "stream",
     "text": [
      "Even:  2\n",
      "Even:  4\n",
      "Even:  6\n",
      "Even:  8\n",
      "Even:  10\n",
      "Even:  12\n",
      "Even:  14\n",
      "Even:  16\n",
      "Even:  18\n",
      "Even:  20\n",
      "Even:  22\n",
      "Even:  24\n",
      "Even:  26\n",
      "Even:  28\n",
      "Even:  30\n",
      "Even:  32\n",
      "Even:  34\n",
      "Even:  36\n",
      "Even:  38\n",
      "Even:  40\n",
      "Even:  42\n",
      "Even:  44\n",
      "Even:  46\n",
      "Even:  48\n",
      "Even:  50\n",
      "Odd:  51\n",
      "Odd:  53\n",
      "Odd:  55\n",
      "Odd:  57\n",
      "Odd:  59\n",
      "Odd:  61\n",
      "Odd:  63\n",
      "Odd:  65\n",
      "Odd:  67\n",
      "Odd:  69\n",
      "Odd:  71\n",
      "Odd:  73\n",
      "Odd:  75\n",
      "Odd:  77\n",
      "Odd:  79\n",
      "Odd:  81\n",
      "Odd:  83\n",
      "Odd:  85\n",
      "Odd:  87\n",
      "Odd:  89\n",
      "Odd:  91\n",
      "Odd:  93\n",
      "Odd:  95\n",
      "Odd:  97\n",
      "Odd:  99\n"
     ]
    }
   ],
   "source": [
    "while num <= 100:\n",
    "    if num <= 50:\n",
    "        if num % 2 == 0:\n",
    "            print(\"Even: \", num)\n",
    "    else:\n",
    "        if num % 2 != 0:\n",
    "            print(\"Odd: \", num)\n",
    "    num += 1"
   ]
  },
  {
   "cell_type": "code",
   "execution_count": null,
   "id": "f9c326a1",
   "metadata": {},
   "outputs": [],
   "source": []
  }
 ],
 "metadata": {
  "kernelspec": {
   "display_name": "venv",
   "language": "python",
   "name": "python3"
  },
  "language_info": {
   "codemirror_mode": {
    "name": "ipython",
    "version": 3
   },
   "file_extension": ".py",
   "mimetype": "text/x-python",
   "name": "python",
   "nbconvert_exporter": "python",
   "pygments_lexer": "ipython3",
   "version": "3.12.3"
  }
 },
 "nbformat": 4,
 "nbformat_minor": 5
}
