{
 "cells": [
  {
   "cell_type": "markdown",
   "id": "837fa729",
   "metadata": {},
   "source": [
    "# 6. Create a program that calculates and displays the perimeter\n",
    "# of a circle, prompting the user for the radius."
   ]
  },
  {
   "cell_type": "code",
   "execution_count": 1,
   "id": "385a40a7",
   "metadata": {},
   "outputs": [],
   "source": [
    "import math"
   ]
  },
  {
   "cell_type": "code",
   "execution_count": 2,
   "id": "21e5937b",
   "metadata": {},
   "outputs": [],
   "source": [
    "# prompt user for radius\n",
    "radius = float(input(\"Enter the radius of the circle: \"))"
   ]
  },
  {
   "cell_type": "code",
   "execution_count": 3,
   "id": "0f34f3ee",
   "metadata": {},
   "outputs": [],
   "source": [
    "# calculate the perimeter\n",
    "perimeter = 2 * math.pi * radius"
   ]
  },
  {
   "cell_type": "code",
   "execution_count": 4,
   "id": "1920e259",
   "metadata": {},
   "outputs": [
    {
     "name": "stdout",
     "output_type": "stream",
     "text": [
      "The perimeter of the circle is: 34.55751918948772\n"
     ]
    }
   ],
   "source": [
    "# display the result\n",
    "print(\"The perimeter of the circle is:\", perimeter)"
   ]
  }
 ],
 "metadata": {
  "kernelspec": {
   "display_name": "venv",
   "language": "python",
   "name": "python3"
  },
  "language_info": {
   "codemirror_mode": {
    "name": "ipython",
    "version": 3
   },
   "file_extension": ".py",
   "mimetype": "text/x-python",
   "name": "python",
   "nbconvert_exporter": "python",
   "pygments_lexer": "ipython3",
   "version": "3.12.3"
  }
 },
 "nbformat": 4,
 "nbformat_minor": 5
}
