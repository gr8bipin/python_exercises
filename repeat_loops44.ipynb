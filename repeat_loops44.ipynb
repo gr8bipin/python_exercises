{
 "cells": [
  {
   "cell_type": "markdown",
   "id": "766cf96f",
   "metadata": {},
   "source": [
    "# 44. Write a program that calculates and displays the value of\n",
    "# the power of a number entered by the user raised to an\n",
    "# exponent also entered by the user, using repetition loops."
   ]
  },
  {
   "cell_type": "code",
   "execution_count": 1,
   "id": "81e9e26f",
   "metadata": {},
   "outputs": [],
   "source": [
    "# prompt the user for the base number and the exponent\n",
    "base = int(input(\"Enter the base number: \"))\n",
    "exponent = int(input(\"Enter the exponent: \"))"
   ]
  },
  {
   "cell_type": "code",
   "execution_count": 2,
   "id": "d5deacf4",
   "metadata": {},
   "outputs": [],
   "source": [
    "# initialize the result variable to hold the calculated value\n",
    "result = 1"
   ]
  },
  {
   "cell_type": "code",
   "execution_count": 3,
   "id": "2b3cc72f",
   "metadata": {},
   "outputs": [],
   "source": [
    "# use a for loop to iterate from 1 to the exponent\n",
    "for _ in range(1, exponent + 1):\n",
    "    # multiply the result by the base number in each iteration\n",
    "    result *= base"
   ]
  },
  {
   "cell_type": "code",
   "execution_count": 4,
   "id": "9a8f925c",
   "metadata": {},
   "outputs": [
    {
     "name": "stdout",
     "output_type": "stream",
     "text": [
      "The result of 2 raised to the power of 3 is 8\n"
     ]
    }
   ],
   "source": [
    "# display the calculated result\n",
    "print(\"The result of\", base, \"raised to the power of\", exponent, \"is\", result)"
   ]
  }
 ],
 "metadata": {
  "kernelspec": {
   "display_name": "venv",
   "language": "python",
   "name": "python3"
  },
  "language_info": {
   "codemirror_mode": {
    "name": "ipython",
    "version": 3
   },
   "file_extension": ".py",
   "mimetype": "text/x-python",
   "name": "python",
   "nbconvert_exporter": "python",
   "pygments_lexer": "ipython3",
   "version": "3.12.3"
  }
 },
 "nbformat": 4,
 "nbformat_minor": 5
}
