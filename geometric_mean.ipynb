{
 "cells": [
  {
   "cell_type": "code",
   "execution_count": 1,
   "id": "72ebec53",
   "metadata": {},
   "outputs": [],
   "source": [
    "# 4. Write a program that calculates the geometric mean of three\n",
    "# numbers entered by the user."
   ]
  },
  {
   "cell_type": "code",
   "execution_count": 2,
   "id": "f95a81df",
   "metadata": {},
   "outputs": [],
   "source": [
    "import math"
   ]
  },
  {
   "cell_type": "code",
   "execution_count": 3,
   "id": "2c686616",
   "metadata": {},
   "outputs": [],
   "source": [
    "# prompt the user for three numbers\n",
    "num1 = float(input(\"Enter the first number: \"))\n",
    "num2 = float(input(\"Enter the second number: \"))\n",
    "num3 = float(input(\"Enter the third number: \"))"
   ]
  },
  {
   "cell_type": "code",
   "execution_count": 4,
   "id": "ec7b4ddb",
   "metadata": {},
   "outputs": [],
   "source": [
    "# calculate the geometric mean\n",
    "product = num1 * num2 * num3\n",
    "geometric_mean = math.pow(product, 1/3)"
   ]
  },
  {
   "cell_type": "code",
   "execution_count": 6,
   "id": "0a6d7666",
   "metadata": {},
   "outputs": [
    {
     "name": "stdout",
     "output_type": "stream",
     "text": [
      "Geometric mean: 18.171205928321395\n"
     ]
    }
   ],
   "source": [
    "# Display the result\n",
    "print(\"Geometric mean:\", geometric_mean)"
   ]
  }
 ],
 "metadata": {
  "kernelspec": {
   "display_name": "venv",
   "language": "python",
   "name": "python3"
  },
  "language_info": {
   "codemirror_mode": {
    "name": "ipython",
    "version": 3
   },
   "file_extension": ".py",
   "mimetype": "text/x-python",
   "name": "python",
   "nbconvert_exporter": "python",
   "pygments_lexer": "ipython3",
   "version": "3.12.3"
  }
 },
 "nbformat": 4,
 "nbformat_minor": 5
}
