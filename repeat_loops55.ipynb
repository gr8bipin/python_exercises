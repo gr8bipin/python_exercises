{
 "cells": [
  {
   "cell_type": "markdown",
   "id": "7e4304ca",
   "metadata": {},
   "source": [
    "# 55. Write a program that prompts the user for a number and\n",
    "# displays its divisors."
   ]
  },
  {
   "cell_type": "code",
   "execution_count": 1,
   "id": "39f3932e",
   "metadata": {},
   "outputs": [],
   "source": [
    "# prompt user to enter a number\n",
    "number = int(input(\"Enter a number: \"))"
   ]
  },
  {
   "cell_type": "code",
   "execution_count": 6,
   "id": "8d1ca9bf",
   "metadata": {},
   "outputs": [
    {
     "name": "stdout",
     "output_type": "stream",
     "text": [
      "Divisors of 12 :\n",
      "1\n",
      "2\n",
      "3\n",
      "4\n",
      "6\n",
      "12\n"
     ]
    }
   ],
   "source": [
    "# display the divisors\n",
    "print(\"Divisors of\", number, \":\")\n",
    "for i in range(1, number + 1):\n",
    "    if number % i == 0:\n",
    "       print(i)"
   ]
  },
  {
   "cell_type": "markdown",
   "id": "50a7ee07",
   "metadata": {},
   "source": []
  }
 ],
 "metadata": {
  "kernelspec": {
   "display_name": "venv",
   "language": "python",
   "name": "python3"
  },
  "language_info": {
   "codemirror_mode": {
    "name": "ipython",
    "version": 3
   },
   "file_extension": ".py",
   "mimetype": "text/x-python",
   "name": "python",
   "nbconvert_exporter": "python",
   "pygments_lexer": "ipython3",
   "version": "3.12.3"
  }
 },
 "nbformat": 4,
 "nbformat_minor": 5
}
