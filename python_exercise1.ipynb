{
 "cells": [
  {
   "cell_type": "markdown",
   "id": "76f32fdd",
   "metadata": {},
   "source": [
    "# 1. Write a program that prompts the user for two numbers and\n",
    "# displays the addition, subtraction, multiplication, and division\n",
    "# between them."
   ]
  },
  {
   "cell_type": "code",
   "execution_count": 1,
   "id": "2938e0ce",
   "metadata": {},
   "outputs": [],
   "source": [
    "# Prompt the user for two numbers\n",
    "num1 = float(input(\"Enter the first number: \"))\n",
    "num2 = float(input(\"Enter the second number: \"))"
   ]
  },
  {
   "cell_type": "code",
   "execution_count": 2,
   "id": "cea8705d",
   "metadata": {},
   "outputs": [],
   "source": [
    "# Perform arithmetic operations\n",
    "addition = num1 + num2\n",
    "subtraction = num1 - num2\n",
    "multiplication = num1 * num2\n",
    "division = num1 / num2"
   ]
  },
  {
   "cell_type": "code",
   "execution_count": 3,
   "id": "34768d05",
   "metadata": {},
   "outputs": [
    {
     "name": "stdout",
     "output_type": "stream",
     "text": [
      "Addition 65.55\n",
      "Subtraction 45.55\n",
      "Multiplication 555.5\n",
      "Division 5.555\n"
     ]
    }
   ],
   "source": [
    "# Display the results\n",
    "print(\"Addition\", addition)\n",
    "print(\"Subtraction\", subtraction)\n",
    "print(\"Multiplication\", multiplication)\n",
    "print(\"Division\", division)"
   ]
  }
 ],
 "metadata": {
  "kernelspec": {
   "display_name": "venv",
   "language": "python",
   "name": "python3"
  },
  "language_info": {
   "codemirror_mode": {
    "name": "ipython",
    "version": 3
   },
   "file_extension": ".py",
   "mimetype": "text/x-python",
   "name": "python",
   "nbconvert_exporter": "python",
   "pygments_lexer": "ipython3",
   "version": "3.12.3"
  }
 },
 "nbformat": 4,
 "nbformat_minor": 5
}
