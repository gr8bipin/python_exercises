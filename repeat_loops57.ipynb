{
 "cells": [
  {
   "cell_type": "markdown",
   "id": "caef9758",
   "metadata": {},
   "source": [
    "# 57. Write a program that determines the greatest common\n",
    "# divisor (GCD) between two numbers entered by the user."
   ]
  },
  {
   "cell_type": "code",
   "execution_count": 2,
   "id": "b6e88d63",
   "metadata": {},
   "outputs": [],
   "source": [
    "# prompt the user for two numbers\n",
    "num1 = int(input(\"Enter the first number: \"))\n",
    "num2 = int(input(\"Enter the second number: \"))"
   ]
  },
  {
   "cell_type": "markdown",
   "id": "e0babfa1",
   "metadata": {},
   "source": []
  },
  {
   "cell_type": "code",
   "execution_count": null,
   "id": "96fb5969",
   "metadata": {},
   "outputs": [],
   "source": [
    "# find smaller of the two numbers\n",
    "# This ensures that we only iterate up to the smaller number when finding the GCD.\n",
    "smaller = min(num1, num2)"
   ]
  },
  {
   "cell_type": "code",
   "execution_count": 4,
   "id": "7015ec77",
   "metadata": {},
   "outputs": [],
   "source": [
    "# initialize the GCD variable\n",
    "gcd = 1"
   ]
  },
  {
   "cell_type": "code",
   "execution_count": 5,
   "id": "a894ad9d",
   "metadata": {},
   "outputs": [],
   "source": [
    "# calculate the GCD\n",
    "for i in range(1, smaller + 1):\n",
    "    if num1 % i == 0 and num2 % i == 0:\n",
    "        gcd = i\n"
   ]
  },
  {
   "cell_type": "code",
   "execution_count": 6,
   "id": "bfa03fdf",
   "metadata": {},
   "outputs": [
    {
     "name": "stdout",
     "output_type": "stream",
     "text": [
      "GCD of 10 and 20 is: 10\n"
     ]
    }
   ],
   "source": [
    "# display the GCD\n",
    "print(\"GCD of\", num1, \"and\", num2, \"is:\", gcd)"
   ]
  }
 ],
 "metadata": {
  "kernelspec": {
   "display_name": "venv",
   "language": "python",
   "name": "python3"
  },
  "language_info": {
   "codemirror_mode": {
    "name": "ipython",
    "version": 3
   },
   "file_extension": ".py",
   "mimetype": "text/x-python",
   "name": "python",
   "nbconvert_exporter": "python",
   "pygments_lexer": "ipython3",
   "version": "3.12.3"
  }
 },
 "nbformat": 4,
 "nbformat_minor": 5
}
