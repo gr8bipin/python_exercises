{
 "cells": [
  {
   "cell_type": "markdown",
   "id": "dc161820",
   "metadata": {},
   "source": [
    "# 47. Create a program that displays the first N prime numbers,\n",
    "# where N is informed by the user, using a loop."
   ]
  },
  {
   "cell_type": "code",
   "execution_count": 2,
   "id": "68f7e627",
   "metadata": {},
   "outputs": [],
   "source": [
    "# prompt the user for a number\n",
    "N = int(input(\"Enter the value of N: \"))"
   ]
  },
  {
   "cell_type": "code",
   "execution_count": 3,
   "id": "30686d60",
   "metadata": {},
   "outputs": [],
   "source": [
    "count = 0 # Initialize a counter to keep track of the number of prime numbers found\n",
    "num = 2 # start checking prime numbers from 2"
   ]
  },
  {
   "cell_type": "code",
   "execution_count": 4,
   "id": "d1028c82",
   "metadata": {},
   "outputs": [
    {
     "name": "stdout",
     "output_type": "stream",
     "text": [
      "2 3 5 7 11 13 17 19 23 29 31 37 41 43 47 53 59 61 67 71 \n"
     ]
    }
   ],
   "source": [
    "while count < N:\n",
    "    is_prime = True\n",
    "\n",
    "    # check if the current number is divisible by any integer\n",
    "    # from 2 to the square root of the number\n",
    "    for i in range(2, int(num ** 0.5) + 1):\n",
    "        if num % i == 0:\n",
    "            is_prime = False\n",
    "            break\n",
    "\n",
    "    # if the number is prime, display it\n",
    "    if is_prime:\n",
    "        print(num, end=\" \")\n",
    "        count += 1\n",
    "\n",
    "    num += 1 # move to the next number for checking\n",
    "\n",
    "# Add a new line for better output formatting\n",
    "print()"
   ]
  }
 ],
 "metadata": {
  "kernelspec": {
   "display_name": "venv",
   "language": "python",
   "name": "python3"
  },
  "language_info": {
   "codemirror_mode": {
    "name": "ipython",
    "version": 3
   },
   "file_extension": ".py",
   "mimetype": "text/x-python",
   "name": "python",
   "nbconvert_exporter": "python",
   "pygments_lexer": "ipython3",
   "version": "3.12.3"
  }
 },
 "nbformat": 4,
 "nbformat_minor": 5
}
