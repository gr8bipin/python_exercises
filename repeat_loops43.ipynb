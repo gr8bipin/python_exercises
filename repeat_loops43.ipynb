{
 "cells": [
  {
   "cell_type": "markdown",
   "id": "9a45157c",
   "metadata": {},
   "source": [
    "# 43. Write a program that calculates and displays the sum of\n",
    "# even numbers from 1 to 100 using a repeating loop."
   ]
  },
  {
   "cell_type": "code",
   "execution_count": 4,
   "id": "7ee5c516",
   "metadata": {},
   "outputs": [],
   "source": [
    "# Solution 1: Using while loop"
   ]
  },
  {
   "cell_type": "code",
   "execution_count": 1,
   "id": "3724e4ae",
   "metadata": {},
   "outputs": [],
   "source": [
    "# Initialize variables\n",
    "sum_of_evens = 0\n",
    "num = 2"
   ]
  },
  {
   "cell_type": "code",
   "execution_count": 2,
   "id": "df919067",
   "metadata": {},
   "outputs": [],
   "source": [
    "# use a while loop to iterate until num reaches 100\n",
    "while num <= 100:\n",
    "    \n",
    "    # Add the current number to the sum if it is even\n",
    "    sum_of_evens += num\n",
    "\n",
    "    # Increment the number by 2 to get the next even number\n",
    "    num += 2"
   ]
  },
  {
   "cell_type": "code",
   "execution_count": 5,
   "id": "2e96814a",
   "metadata": {},
   "outputs": [
    {
     "name": "stdout",
     "output_type": "stream",
     "text": [
      "The sum of even numbers from 1 to 100 is:  2550\n"
     ]
    }
   ],
   "source": [
    "# display the sum of even numbers\n",
    "print(\"The sum of even numbers from 1 to 100 is: \", sum_of_evens)"
   ]
  },
  {
   "cell_type": "code",
   "execution_count": 6,
   "id": "c61bb89e",
   "metadata": {},
   "outputs": [],
   "source": [
    "# Solution 2: Using for in range with step = 2"
   ]
  },
  {
   "cell_type": "code",
   "execution_count": 7,
   "id": "62f68e5f",
   "metadata": {},
   "outputs": [],
   "source": [
    "# initialize variable\n",
    "sum_of_evens = 0"
   ]
  },
  {
   "cell_type": "code",
   "execution_count": 8,
   "id": "09522c2c",
   "metadata": {},
   "outputs": [],
   "source": [
    "# Use a for loop with range and step 2 to iterate through\n",
    "# even numbers from 2 to 100\n",
    "for num in range(2, 101, 2):\n",
    "    # Add the current number to the sum\n",
    "    sum_of_evens += num"
   ]
  },
  {
   "cell_type": "code",
   "execution_count": 9,
   "id": "03668580",
   "metadata": {},
   "outputs": [
    {
     "name": "stdout",
     "output_type": "stream",
     "text": [
      "The sum of even numbers from 1 to 100 is: 2550\n"
     ]
    }
   ],
   "source": [
    "# Display the sum of even numbers\n",
    "print(\"The sum of even numbers from 1 to 100 is:\", sum_of_evens)"
   ]
  }
 ],
 "metadata": {
  "kernelspec": {
   "display_name": "venv",
   "language": "python",
   "name": "python3"
  },
  "language_info": {
   "codemirror_mode": {
    "name": "ipython",
    "version": 3
   },
   "file_extension": ".py",
   "mimetype": "text/x-python",
   "name": "python",
   "nbconvert_exporter": "python",
   "pygments_lexer": "ipython3",
   "version": "3.12.3"
  }
 },
 "nbformat": 4,
 "nbformat_minor": 5
}
