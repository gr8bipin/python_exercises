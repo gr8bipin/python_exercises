{
 "cells": [
  {
   "cell_type": "markdown",
   "id": "9d584168",
   "metadata": {},
   "source": [
    "# 54. Write a program that prompts the user for a sentence and\n",
    "# displays the number of vowels in the sentence."
   ]
  },
  {
   "cell_type": "code",
   "execution_count": 4,
   "id": "d053197b",
   "metadata": {},
   "outputs": [],
   "source": [
    "# prompt the user for a sentence\n",
    "sentence = input(\"Enter a sentence: \")"
   ]
  },
  {
   "cell_type": "code",
   "execution_count": 5,
   "id": "7a561936",
   "metadata": {},
   "outputs": [],
   "source": [
    "# initialize the vowel count to 0\n",
    "vowel_count = 0"
   ]
  },
  {
   "cell_type": "code",
   "execution_count": 6,
   "id": "c6d78b32",
   "metadata": {},
   "outputs": [
    {
     "name": "stdout",
     "output_type": "stream",
     "text": [
      "Number of vowels: 5\n"
     ]
    }
   ],
   "source": [
    "# iterate over each character in the sentence\n",
    "for char in sentence:\n",
    "    # convert the character to lowercase for case-sensitive matching\n",
    "    char_lower = char.lower()\n",
    "\n",
    "    # check if the character is a vowel\n",
    "    if char_lower in 'aeiou':\n",
    "        # increment the vowel count\n",
    "        vowel_count += 1\n",
    "\n",
    "# display the number of vowels in the sentence \n",
    "print(\"Number of vowels:\", vowel_count)"
   ]
  }
 ],
 "metadata": {
  "kernelspec": {
   "display_name": "venv",
   "language": "python",
   "name": "python3"
  },
  "language_info": {
   "codemirror_mode": {
    "name": "ipython",
    "version": 3
   },
   "file_extension": ".py",
   "mimetype": "text/x-python",
   "name": "python",
   "nbconvert_exporter": "python",
   "pygments_lexer": "ipython3",
   "version": "3.12.3"
  }
 },
 "nbformat": 4,
 "nbformat_minor": 5
}
